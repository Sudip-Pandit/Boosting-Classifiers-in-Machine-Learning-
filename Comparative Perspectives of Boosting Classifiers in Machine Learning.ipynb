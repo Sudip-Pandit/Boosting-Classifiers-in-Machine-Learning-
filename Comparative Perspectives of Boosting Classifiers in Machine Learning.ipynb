{
 "cells": [
  {
   "cell_type": "markdown",
   "metadata": {},
   "source": [
    "### Title of the project- Comparative Perspectives of Boosting Classifiers in Machine Learning\n",
    "\n",
    "By: PANDIT, Sudip*"
   ]
  },
  {
   "cell_type": "markdown",
   "metadata": {},
   "source": [
    "### Description of the Project:\n",
    "+ The \"Breast Cancer Dataset\" is used in this project. It has df.shape=(569, 31) which means 569 rows and 32 columns. \n",
    "+ The link of the datset used  in this project is  -https://www.kaggle.com/uciml/breast-cancer-wisconsin-data\n",
    "+ I am importing the important python packages- skelarn, pandas, numpy, seaborn and matplotlib to complete the project.\n",
    "+ The machine learning models such as  Logistic Regression, Decision Tree, Random Forest, XGBoost, AdaBoost and Gradient Boosting classifier have been used.\n",
    "+ The performance of the  machine learnig models have been tested on the basis of accuracy score, confusion matrix, classification report, f1 score and roc auc score.\n",
    "+ I had tuned hyperparameters  to improve the perforamnce for XGBoost model \n",
    "+ The good visualization is also important along with accuracy score in model building. The performance of the model have been  visualized in this project.  "
   ]
  },
  {
   "cell_type": "markdown",
   "metadata": {},
   "source": [
    "### Problem statement:\n",
    "\n",
    "+ The full form of XGBoost is eXtreme Gradient Boosting, also called winner for several kaggle competetion machine learning model. Most of the literatues of Machine Learning found in google has described this model as having best accuracy, efficient and feasibility.\n",
    "+ It is a decision-tree-based ensemble ML algorithm based on gradient boosting framework.\n",
    "+ It is considered that XGBoost provides a convenient way of cross-validation.\n",
    "+ Cross-validation  technique is applied to test the model's  overfitting during the training phase. If the model gives good accuracy in training dataset but the model works very poor in testing unseen dataset then it is  called overfitting or a model of low bias and high variance.\n",
    "+ I have to  calculate the model training and testing errors with different learning rates.As we know that the best technique to choose the learning rate value is between 0 and 1. I will be going to start the test by putting the learning rate as 0.01.\n",
    "+ It would easy to see the results through good visualization. I am also going to visualize the training and testing errors and accuracies by making a graph. Finally, I will tune the hyperparameters  which helps us predict the testing datasets i.e. x_test."
   ]
  },
  {
   "cell_type": "markdown",
   "metadata": {},
   "source": [
    "### Purpose of the project:\n",
    "+ The purpose of this project is to provide a quick overview of different classifiers used in machine learning.\n",
    "+ I compare different classifiers accuracies with XGBoost Classifier and predict why it is important in machine learning model building.\n",
    "+ This project is focused in Boosting classifier. It will not cover the bagging part (Here, my goal is to identify some of the classifiers accuracies and compare their accuracies with the XGBoost classfier.  "
   ]
  },
  {
   "cell_type": "markdown",
   "metadata": {},
   "source": [
    "### Reference Documents:\n",
    "+ I would like to highly recommend to read the article link-https://medium.com/@saugata.paul1010/ensemble-learning-bagging-boosting-stacking-and-cascading-classifiers-in-machine-learning-9c66cb271674. The writer has explained very clearly about the ensemble method. The best part of this article is that he has described about the concept of cascading. \n",
    "+ As per Paul(2018), Cascading is one of the most powerful ensemble learning algorithm which is used by Machine Learning engineers and scientists when they want to be absolutely dead sure about the accuracy of a result.\n",
    "+ I read different articles to prepare this project which are down at end of the project as a reference."
   ]
  },
  {
   "cell_type": "markdown",
   "metadata": {},
   "source": [
    "### Import the libraries"
   ]
  },
  {
   "cell_type": "code",
   "execution_count": null,
   "metadata": {},
   "outputs": [],
   "source": [
    "import pandas as pd\n",
    "import numpy as np\n",
    "import matplotlib.pyplot as plt\n",
    "%matplotlib inline"
   ]
  },
  {
   "cell_type": "markdown",
   "metadata": {},
   "source": [
    "### Load the dataset"
   ]
  },
  {
   "cell_type": "code",
   "execution_count": null,
   "metadata": {},
   "outputs": [],
   "source": [
    "df=pd.read_csv('cancer.csv')"
   ]
  },
  {
   "cell_type": "code",
   "execution_count": null,
   "metadata": {},
   "outputs": [],
   "source": [
    "df.head()"
   ]
  },
  {
   "cell_type": "code",
   "execution_count": null,
   "metadata": {},
   "outputs": [],
   "source": [
    "df.tail()"
   ]
  },
  {
   "cell_type": "code",
   "execution_count": 5,
   "metadata": {},
   "outputs": [],
   "source": [
    "df.drop('id', axis=1, inplace=True)"
   ]
  },
  {
   "cell_type": "code",
   "execution_count": 6,
   "metadata": {},
   "outputs": [],
   "source": [
    "df['diagnosis']=pd.get_dummies(df['diagnosis'])"
   ]
  },
  {
   "cell_type": "markdown",
   "metadata": {},
   "source": [
    "### Print the first five rows"
   ]
  },
  {
   "cell_type": "code",
   "execution_count": 7,
   "metadata": {},
   "outputs": [
    {
     "data": {
      "text/html": [
       "<div>\n",
       "<style scoped>\n",
       "    .dataframe tbody tr th:only-of-type {\n",
       "        vertical-align: middle;\n",
       "    }\n",
       "\n",
       "    .dataframe tbody tr th {\n",
       "        vertical-align: top;\n",
       "    }\n",
       "\n",
       "    .dataframe thead th {\n",
       "        text-align: right;\n",
       "    }\n",
       "</style>\n",
       "<table border=\"1\" class=\"dataframe\">\n",
       "  <thead>\n",
       "    <tr style=\"text-align: right;\">\n",
       "      <th></th>\n",
       "      <th>diagnosis</th>\n",
       "      <th>radius_mean</th>\n",
       "      <th>texture_mean</th>\n",
       "      <th>perimeter_mean</th>\n",
       "      <th>area_mean</th>\n",
       "      <th>smoothness_mean</th>\n",
       "      <th>compactness_mean</th>\n",
       "      <th>concavity_mean</th>\n",
       "      <th>concave points_mean</th>\n",
       "      <th>symmetry_mean</th>\n",
       "      <th>...</th>\n",
       "      <th>radius_worst</th>\n",
       "      <th>texture_worst</th>\n",
       "      <th>perimeter_worst</th>\n",
       "      <th>area_worst</th>\n",
       "      <th>smoothness_worst</th>\n",
       "      <th>compactness_worst</th>\n",
       "      <th>concavity_worst</th>\n",
       "      <th>concave points_worst</th>\n",
       "      <th>symmetry_worst</th>\n",
       "      <th>fractal_dimension_worst</th>\n",
       "    </tr>\n",
       "  </thead>\n",
       "  <tbody>\n",
       "    <tr>\n",
       "      <th>0</th>\n",
       "      <td>0</td>\n",
       "      <td>17.99</td>\n",
       "      <td>10.38</td>\n",
       "      <td>122.80</td>\n",
       "      <td>1001.0</td>\n",
       "      <td>0.11840</td>\n",
       "      <td>0.27760</td>\n",
       "      <td>0.3001</td>\n",
       "      <td>0.14710</td>\n",
       "      <td>0.2419</td>\n",
       "      <td>...</td>\n",
       "      <td>25.38</td>\n",
       "      <td>17.33</td>\n",
       "      <td>184.60</td>\n",
       "      <td>2019.0</td>\n",
       "      <td>0.1622</td>\n",
       "      <td>0.6656</td>\n",
       "      <td>0.7119</td>\n",
       "      <td>0.2654</td>\n",
       "      <td>0.4601</td>\n",
       "      <td>0.11890</td>\n",
       "    </tr>\n",
       "    <tr>\n",
       "      <th>1</th>\n",
       "      <td>0</td>\n",
       "      <td>20.57</td>\n",
       "      <td>17.77</td>\n",
       "      <td>132.90</td>\n",
       "      <td>1326.0</td>\n",
       "      <td>0.08474</td>\n",
       "      <td>0.07864</td>\n",
       "      <td>0.0869</td>\n",
       "      <td>0.07017</td>\n",
       "      <td>0.1812</td>\n",
       "      <td>...</td>\n",
       "      <td>24.99</td>\n",
       "      <td>23.41</td>\n",
       "      <td>158.80</td>\n",
       "      <td>1956.0</td>\n",
       "      <td>0.1238</td>\n",
       "      <td>0.1866</td>\n",
       "      <td>0.2416</td>\n",
       "      <td>0.1860</td>\n",
       "      <td>0.2750</td>\n",
       "      <td>0.08902</td>\n",
       "    </tr>\n",
       "    <tr>\n",
       "      <th>2</th>\n",
       "      <td>0</td>\n",
       "      <td>19.69</td>\n",
       "      <td>21.25</td>\n",
       "      <td>130.00</td>\n",
       "      <td>1203.0</td>\n",
       "      <td>0.10960</td>\n",
       "      <td>0.15990</td>\n",
       "      <td>0.1974</td>\n",
       "      <td>0.12790</td>\n",
       "      <td>0.2069</td>\n",
       "      <td>...</td>\n",
       "      <td>23.57</td>\n",
       "      <td>25.53</td>\n",
       "      <td>152.50</td>\n",
       "      <td>1709.0</td>\n",
       "      <td>0.1444</td>\n",
       "      <td>0.4245</td>\n",
       "      <td>0.4504</td>\n",
       "      <td>0.2430</td>\n",
       "      <td>0.3613</td>\n",
       "      <td>0.08758</td>\n",
       "    </tr>\n",
       "    <tr>\n",
       "      <th>3</th>\n",
       "      <td>0</td>\n",
       "      <td>11.42</td>\n",
       "      <td>20.38</td>\n",
       "      <td>77.58</td>\n",
       "      <td>386.1</td>\n",
       "      <td>0.14250</td>\n",
       "      <td>0.28390</td>\n",
       "      <td>0.2414</td>\n",
       "      <td>0.10520</td>\n",
       "      <td>0.2597</td>\n",
       "      <td>...</td>\n",
       "      <td>14.91</td>\n",
       "      <td>26.50</td>\n",
       "      <td>98.87</td>\n",
       "      <td>567.7</td>\n",
       "      <td>0.2098</td>\n",
       "      <td>0.8663</td>\n",
       "      <td>0.6869</td>\n",
       "      <td>0.2575</td>\n",
       "      <td>0.6638</td>\n",
       "      <td>0.17300</td>\n",
       "    </tr>\n",
       "    <tr>\n",
       "      <th>4</th>\n",
       "      <td>0</td>\n",
       "      <td>20.29</td>\n",
       "      <td>14.34</td>\n",
       "      <td>135.10</td>\n",
       "      <td>1297.0</td>\n",
       "      <td>0.10030</td>\n",
       "      <td>0.13280</td>\n",
       "      <td>0.1980</td>\n",
       "      <td>0.10430</td>\n",
       "      <td>0.1809</td>\n",
       "      <td>...</td>\n",
       "      <td>22.54</td>\n",
       "      <td>16.67</td>\n",
       "      <td>152.20</td>\n",
       "      <td>1575.0</td>\n",
       "      <td>0.1374</td>\n",
       "      <td>0.2050</td>\n",
       "      <td>0.4000</td>\n",
       "      <td>0.1625</td>\n",
       "      <td>0.2364</td>\n",
       "      <td>0.07678</td>\n",
       "    </tr>\n",
       "  </tbody>\n",
       "</table>\n",
       "<p>5 rows × 31 columns</p>\n",
       "</div>"
      ],
      "text/plain": [
       "   diagnosis  radius_mean  texture_mean  perimeter_mean  area_mean  \\\n",
       "0          0        17.99         10.38          122.80     1001.0   \n",
       "1          0        20.57         17.77          132.90     1326.0   \n",
       "2          0        19.69         21.25          130.00     1203.0   \n",
       "3          0        11.42         20.38           77.58      386.1   \n",
       "4          0        20.29         14.34          135.10     1297.0   \n",
       "\n",
       "   smoothness_mean  compactness_mean  concavity_mean  concave points_mean  \\\n",
       "0          0.11840           0.27760          0.3001              0.14710   \n",
       "1          0.08474           0.07864          0.0869              0.07017   \n",
       "2          0.10960           0.15990          0.1974              0.12790   \n",
       "3          0.14250           0.28390          0.2414              0.10520   \n",
       "4          0.10030           0.13280          0.1980              0.10430   \n",
       "\n",
       "   symmetry_mean  ...  radius_worst  texture_worst  perimeter_worst  \\\n",
       "0         0.2419  ...         25.38          17.33           184.60   \n",
       "1         0.1812  ...         24.99          23.41           158.80   \n",
       "2         0.2069  ...         23.57          25.53           152.50   \n",
       "3         0.2597  ...         14.91          26.50            98.87   \n",
       "4         0.1809  ...         22.54          16.67           152.20   \n",
       "\n",
       "   area_worst  smoothness_worst  compactness_worst  concavity_worst  \\\n",
       "0      2019.0            0.1622             0.6656           0.7119   \n",
       "1      1956.0            0.1238             0.1866           0.2416   \n",
       "2      1709.0            0.1444             0.4245           0.4504   \n",
       "3       567.7            0.2098             0.8663           0.6869   \n",
       "4      1575.0            0.1374             0.2050           0.4000   \n",
       "\n",
       "   concave points_worst  symmetry_worst  fractal_dimension_worst  \n",
       "0                0.2654          0.4601                  0.11890  \n",
       "1                0.1860          0.2750                  0.08902  \n",
       "2                0.2430          0.3613                  0.08758  \n",
       "3                0.2575          0.6638                  0.17300  \n",
       "4                0.1625          0.2364                  0.07678  \n",
       "\n",
       "[5 rows x 31 columns]"
      ]
     },
     "execution_count": 7,
     "metadata": {},
     "output_type": "execute_result"
    }
   ],
   "source": [
    "df.head()"
   ]
  },
  {
   "cell_type": "markdown",
   "metadata": {},
   "source": [
    "### This gives the shape of the dataset"
   ]
  },
  {
   "cell_type": "code",
   "execution_count": 76,
   "metadata": {},
   "outputs": [
    {
     "data": {
      "text/plain": [
       "(569, 31)"
      ]
     },
     "execution_count": 76,
     "metadata": {},
     "output_type": "execute_result"
    }
   ],
   "source": [
    "df.shape"
   ]
  },
  {
   "cell_type": "code",
   "execution_count": 8,
   "metadata": {},
   "outputs": [
    {
     "data": {
      "text/plain": [
       "diagnosis                    uint8\n",
       "radius_mean                float64\n",
       "texture_mean               float64\n",
       "perimeter_mean             float64\n",
       "area_mean                  float64\n",
       "smoothness_mean            float64\n",
       "compactness_mean           float64\n",
       "concavity_mean             float64\n",
       "concave points_mean        float64\n",
       "symmetry_mean              float64\n",
       "fractal_dimension_mean     float64\n",
       "radius_se                  float64\n",
       "texture_se                 float64\n",
       "perimeter_se               float64\n",
       "area_se                    float64\n",
       "smoothness_se              float64\n",
       "compactness_se             float64\n",
       "concavity_se               float64\n",
       "concave points_se          float64\n",
       "symmetry_se                float64\n",
       "fractal_dimension_se       float64\n",
       "radius_worst               float64\n",
       "texture_worst              float64\n",
       "perimeter_worst            float64\n",
       "area_worst                 float64\n",
       "smoothness_worst           float64\n",
       "compactness_worst          float64\n",
       "concavity_worst            float64\n",
       "concave points_worst       float64\n",
       "symmetry_worst             float64\n",
       "fractal_dimension_worst    float64\n",
       "dtype: object"
      ]
     },
     "execution_count": 8,
     "metadata": {},
     "output_type": "execute_result"
    }
   ],
   "source": [
    "df.dtypes"
   ]
  },
  {
   "cell_type": "code",
   "execution_count": 9,
   "metadata": {},
   "outputs": [
    {
     "data": {
      "text/plain": [
       "Index(['diagnosis', 'radius_mean', 'texture_mean', 'perimeter_mean',\n",
       "       'area_mean', 'smoothness_mean', 'compactness_mean', 'concavity_mean',\n",
       "       'concave points_mean', 'symmetry_mean', 'fractal_dimension_mean',\n",
       "       'radius_se', 'texture_se', 'perimeter_se', 'area_se', 'smoothness_se',\n",
       "       'compactness_se', 'concavity_se', 'concave points_se', 'symmetry_se',\n",
       "       'fractal_dimension_se', 'radius_worst', 'texture_worst',\n",
       "       'perimeter_worst', 'area_worst', 'smoothness_worst',\n",
       "       'compactness_worst', 'concavity_worst', 'concave points_worst',\n",
       "       'symmetry_worst', 'fractal_dimension_worst'],\n",
       "      dtype='object')"
      ]
     },
     "execution_count": 9,
     "metadata": {},
     "output_type": "execute_result"
    }
   ],
   "source": [
    "df.columns"
   ]
  },
  {
   "cell_type": "markdown",
   "metadata": {},
   "source": [
    "### x and y variables (sampling)"
   ]
  },
  {
   "cell_type": "code",
   "execution_count": 10,
   "metadata": {},
   "outputs": [],
   "source": [
    "x=df.drop('diagnosis', axis=1).values\n",
    "y=df['diagnosis']"
   ]
  },
  {
   "cell_type": "markdown",
   "metadata": {},
   "source": [
    "### Scaling the x features in the same scale "
   ]
  },
  {
   "cell_type": "code",
   "execution_count": 11,
   "metadata": {},
   "outputs": [],
   "source": [
    "from sklearn.preprocessing import StandardScaler"
   ]
  },
  {
   "cell_type": "code",
   "execution_count": 12,
   "metadata": {},
   "outputs": [],
   "source": [
    "ss=StandardScaler()"
   ]
  },
  {
   "cell_type": "code",
   "execution_count": 13,
   "metadata": {},
   "outputs": [],
   "source": [
    "x_scaled=ss.fit_transform(x)"
   ]
  },
  {
   "cell_type": "markdown",
   "metadata": {},
   "source": [
    "### Model Building\n",
    "+ Logistic Regression"
   ]
  },
  {
   "cell_type": "code",
   "execution_count": 14,
   "metadata": {},
   "outputs": [],
   "source": [
    "from sklearn.linear_model import LogisticRegression"
   ]
  },
  {
   "cell_type": "code",
   "execution_count": 15,
   "metadata": {},
   "outputs": [],
   "source": [
    "ll=LogisticRegression(solver='lbfgs')"
   ]
  },
  {
   "cell_type": "markdown",
   "metadata": {},
   "source": [
    "### Split the dataset into training and testing in order to train the model"
   ]
  },
  {
   "cell_type": "code",
   "execution_count": 16,
   "metadata": {},
   "outputs": [],
   "source": [
    "from sklearn.model_selection import train_test_split"
   ]
  },
  {
   "cell_type": "code",
   "execution_count": 17,
   "metadata": {},
   "outputs": [],
   "source": [
    "x_train, x_test, y_train, y_test=train_test_split(x_scaled, y, test_size=0.30, random_state=62)"
   ]
  },
  {
   "cell_type": "code",
   "execution_count": 18,
   "metadata": {},
   "outputs": [
    {
     "data": {
      "text/plain": [
       "LogisticRegression()"
      ]
     },
     "execution_count": 18,
     "metadata": {},
     "output_type": "execute_result"
    }
   ],
   "source": [
    "ll.fit(x_train, y_train)"
   ]
  },
  {
   "cell_type": "code",
   "execution_count": 19,
   "metadata": {},
   "outputs": [],
   "source": [
    "y_pred=ll.predict(x_test)"
   ]
  },
  {
   "cell_type": "code",
   "execution_count": 20,
   "metadata": {},
   "outputs": [
    {
     "name": "stdout",
     "output_type": "stream",
     "text": [
      "465    1\n",
      "274    0\n",
      "505    1\n",
      "212    0\n",
      "87     0\n",
      "      ..\n",
      "440    1\n",
      "349    1\n",
      "26     0\n",
      "231    1\n",
      "168    0\n",
      "Name: diagnosis, Length: 171, dtype: uint8\n"
     ]
    }
   ],
   "source": [
    "print(y_test)"
   ]
  },
  {
   "cell_type": "markdown",
   "metadata": {},
   "source": [
    "### Import the following parameters to test each classification model"
   ]
  },
  {
   "cell_type": "code",
   "execution_count": 21,
   "metadata": {},
   "outputs": [],
   "source": [
    "from sklearn.metrics import confusion_matrix, classification_report, f1_score, roc_curve, roc_auc_score, accuracy_score"
   ]
  },
  {
   "cell_type": "code",
   "execution_count": 22,
   "metadata": {},
   "outputs": [
    {
     "data": {
      "text/plain": [
       "array([[ 61,   8],\n",
       "       [  0, 102]], dtype=int64)"
      ]
     },
     "execution_count": 22,
     "metadata": {},
     "output_type": "execute_result"
    }
   ],
   "source": [
    "confusion_matrix(y_test, y_pred)"
   ]
  },
  {
   "cell_type": "code",
   "execution_count": 23,
   "metadata": {},
   "outputs": [
    {
     "name": "stdout",
     "output_type": "stream",
     "text": [
      "              precision    recall  f1-score   support\n",
      "\n",
      "           0       1.00      0.88      0.94        69\n",
      "           1       0.93      1.00      0.96       102\n",
      "\n",
      "    accuracy                           0.95       171\n",
      "   macro avg       0.96      0.94      0.95       171\n",
      "weighted avg       0.96      0.95      0.95       171\n",
      "\n"
     ]
    }
   ],
   "source": [
    "print(classification_report(y_test, y_pred))"
   ]
  },
  {
   "cell_type": "code",
   "execution_count": 24,
   "metadata": {},
   "outputs": [
    {
     "data": {
      "text/plain": [
       "0.9622641509433962"
      ]
     },
     "execution_count": 24,
     "metadata": {},
     "output_type": "execute_result"
    }
   ],
   "source": [
    "f1_score(y_test, y_pred)"
   ]
  },
  {
   "cell_type": "code",
   "execution_count": 25,
   "metadata": {},
   "outputs": [
    {
     "name": "stdout",
     "output_type": "stream",
     "text": [
      "(array([0.        , 0.11594203, 1.        ]), array([0., 1., 1.]), array([2, 1, 0]))\n"
     ]
    }
   ],
   "source": [
    "print(roc_curve(y_test, y_pred))"
   ]
  },
  {
   "cell_type": "code",
   "execution_count": 26,
   "metadata": {},
   "outputs": [
    {
     "data": {
      "text/plain": [
       "0.9420289855072465"
      ]
     },
     "execution_count": 26,
     "metadata": {},
     "output_type": "execute_result"
    }
   ],
   "source": [
    "roc_auc_score(y_test, y_pred)"
   ]
  },
  {
   "cell_type": "markdown",
   "metadata": {},
   "source": [
    "### Random Forest Classifier"
   ]
  },
  {
   "cell_type": "code",
   "execution_count": 27,
   "metadata": {},
   "outputs": [],
   "source": [
    "from sklearn.ensemble import RandomForestClassifier"
   ]
  },
  {
   "cell_type": "code",
   "execution_count": 28,
   "metadata": {},
   "outputs": [],
   "source": [
    "rr=RandomForestClassifier()"
   ]
  },
  {
   "cell_type": "code",
   "execution_count": 29,
   "metadata": {},
   "outputs": [
    {
     "data": {
      "text/plain": [
       "RandomForestClassifier()"
      ]
     },
     "execution_count": 29,
     "metadata": {},
     "output_type": "execute_result"
    }
   ],
   "source": [
    "rr.fit(x_train, y_train)"
   ]
  },
  {
   "cell_type": "code",
   "execution_count": 30,
   "metadata": {},
   "outputs": [],
   "source": [
    "y_pred_rr=rr.predict(x_test)"
   ]
  },
  {
   "cell_type": "code",
   "execution_count": 31,
   "metadata": {},
   "outputs": [
    {
     "data": {
      "text/plain": [
       "array([1, 0, 1, 0, 0, 0, 1, 0, 1, 1, 0, 0, 1, 0, 0, 0, 1, 1, 1, 1, 0, 1,\n",
       "       1, 1, 1, 1, 1, 0, 0, 1, 1, 0, 1, 1, 1, 0, 1, 1, 0, 1, 1, 1, 0, 1,\n",
       "       1, 0, 0, 1, 1, 1, 0, 1, 1, 1, 0, 1, 1, 0, 1, 1, 1, 1, 0, 1, 1, 0,\n",
       "       1, 0, 0, 1, 1, 1, 0, 1, 1, 0, 0, 0, 1, 1, 0, 1, 0, 1, 1, 1, 0, 0,\n",
       "       1, 0, 1, 1, 1, 1, 0, 1, 1, 1, 0, 1, 0, 0, 0, 0, 0, 1, 1, 1, 0, 0,\n",
       "       1, 0, 1, 1, 1, 1, 1, 1, 1, 0, 1, 0, 0, 0, 1, 1, 1, 0, 1, 1, 0, 1,\n",
       "       0, 0, 1, 1, 1, 1, 1, 1, 0, 1, 0, 0, 1, 1, 0, 0, 1, 0, 0, 1, 1, 1,\n",
       "       1, 0, 0, 1, 0, 1, 1, 1, 1, 1, 0, 1, 1, 1, 0, 1, 0], dtype=uint8)"
      ]
     },
     "execution_count": 31,
     "metadata": {},
     "output_type": "execute_result"
    }
   ],
   "source": [
    "y_pred_rr"
   ]
  },
  {
   "cell_type": "code",
   "execution_count": 32,
   "metadata": {},
   "outputs": [
    {
     "data": {
      "text/plain": [
       "array([[62,  7],\n",
       "       [ 4, 98]], dtype=int64)"
      ]
     },
     "execution_count": 32,
     "metadata": {},
     "output_type": "execute_result"
    }
   ],
   "source": [
    "confusion_matrix(y_test, y_pred_rr)"
   ]
  },
  {
   "cell_type": "code",
   "execution_count": 33,
   "metadata": {},
   "outputs": [
    {
     "data": {
      "text/plain": [
       "0.935672514619883"
      ]
     },
     "execution_count": 33,
     "metadata": {},
     "output_type": "execute_result"
    }
   ],
   "source": [
    "accuracy_score(y_test, y_pred_rr)"
   ]
  },
  {
   "cell_type": "code",
   "execution_count": 34,
   "metadata": {},
   "outputs": [
    {
     "name": "stdout",
     "output_type": "stream",
     "text": [
      "              precision    recall  f1-score   support\n",
      "\n",
      "           0       0.94      0.90      0.92        69\n",
      "           1       0.93      0.96      0.95       102\n",
      "\n",
      "    accuracy                           0.94       171\n",
      "   macro avg       0.94      0.93      0.93       171\n",
      "weighted avg       0.94      0.94      0.94       171\n",
      "\n"
     ]
    }
   ],
   "source": [
    "print(classification_report(y_test, y_pred_rr))"
   ]
  },
  {
   "cell_type": "code",
   "execution_count": 35,
   "metadata": {},
   "outputs": [
    {
     "data": {
      "text/plain": [
       "0.9468599033816426"
      ]
     },
     "execution_count": 35,
     "metadata": {},
     "output_type": "execute_result"
    }
   ],
   "source": [
    "f1_score(y_test, y_pred_rr)"
   ]
  },
  {
   "cell_type": "code",
   "execution_count": 36,
   "metadata": {},
   "outputs": [
    {
     "data": {
      "text/plain": [
       "0.9296675191815857"
      ]
     },
     "execution_count": 36,
     "metadata": {},
     "output_type": "execute_result"
    }
   ],
   "source": [
    "roc_auc_score(y_test, y_pred_rr)"
   ]
  },
  {
   "cell_type": "markdown",
   "metadata": {},
   "source": [
    "### Decision Tree Classifier"
   ]
  },
  {
   "cell_type": "code",
   "execution_count": 37,
   "metadata": {},
   "outputs": [],
   "source": [
    "from sklearn.tree import DecisionTreeClassifier"
   ]
  },
  {
   "cell_type": "code",
   "execution_count": 38,
   "metadata": {},
   "outputs": [],
   "source": [
    "dt=DecisionTreeClassifier(max_depth=2)"
   ]
  },
  {
   "cell_type": "code",
   "execution_count": 39,
   "metadata": {},
   "outputs": [
    {
     "data": {
      "text/plain": [
       "DecisionTreeClassifier(max_depth=2)"
      ]
     },
     "execution_count": 39,
     "metadata": {},
     "output_type": "execute_result"
    }
   ],
   "source": [
    "dt.fit(x_train, y_train)"
   ]
  },
  {
   "cell_type": "code",
   "execution_count": 40,
   "metadata": {},
   "outputs": [],
   "source": [
    "y_pred_dt=dt.predict(x_test)"
   ]
  },
  {
   "cell_type": "code",
   "execution_count": 41,
   "metadata": {},
   "outputs": [
    {
     "name": "stdout",
     "output_type": "stream",
     "text": [
      "Wall time: 0 ns\n"
     ]
    },
    {
     "data": {
      "text/plain": [
       "array([1, 0, 1, 0, 0, 0, 1, 0, 1, 1, 0, 0, 1, 0, 0, 0, 1, 1, 1, 1, 0, 1,\n",
       "       1, 1, 1, 1, 1, 0, 0, 1, 1, 0, 1, 1, 1, 0, 1, 1, 0, 0, 1, 1, 0, 1,\n",
       "       1, 0, 0, 1, 1, 1, 0, 1, 1, 1, 1, 1, 1, 0, 1, 0, 1, 1, 0, 1, 1, 0,\n",
       "       1, 0, 1, 1, 1, 1, 0, 1, 1, 0, 1, 0, 0, 1, 0, 1, 0, 1, 1, 1, 0, 0,\n",
       "       1, 0, 1, 1, 1, 1, 1, 0, 1, 1, 1, 0, 0, 0, 0, 0, 0, 1, 1, 1, 0, 0,\n",
       "       1, 0, 0, 1, 1, 1, 1, 1, 1, 0, 1, 0, 0, 0, 1, 1, 1, 0, 1, 1, 0, 1,\n",
       "       0, 0, 1, 1, 1, 1, 1, 1, 0, 1, 0, 0, 1, 1, 0, 0, 1, 0, 0, 1, 1, 1,\n",
       "       1, 0, 0, 1, 0, 1, 1, 1, 1, 1, 0, 1, 0, 1, 0, 1, 0], dtype=uint8)"
      ]
     },
     "execution_count": 41,
     "metadata": {},
     "output_type": "execute_result"
    }
   ],
   "source": [
    "%%time\n",
    "y_pred_dt"
   ]
  },
  {
   "cell_type": "code",
   "execution_count": 42,
   "metadata": {},
   "outputs": [
    {
     "data": {
      "text/plain": [
       "0.9005847953216374"
      ]
     },
     "execution_count": 42,
     "metadata": {},
     "output_type": "execute_result"
    }
   ],
   "source": [
    "accuracy_score(y_test,y_pred_dt)"
   ]
  },
  {
   "cell_type": "code",
   "execution_count": 43,
   "metadata": {},
   "outputs": [
    {
     "data": {
      "text/plain": [
       "0.9170731707317074"
      ]
     },
     "execution_count": 43,
     "metadata": {},
     "output_type": "execute_result"
    }
   ],
   "source": [
    "f1_score(y_test, y_pred_dt)"
   ]
  },
  {
   "cell_type": "code",
   "execution_count": 44,
   "metadata": {},
   "outputs": [
    {
     "data": {
      "text/plain": [
       "0.8955669224211422"
      ]
     },
     "execution_count": 44,
     "metadata": {},
     "output_type": "execute_result"
    }
   ],
   "source": [
    "roc_auc_score(y_test, y_pred_dt)"
   ]
  },
  {
   "cell_type": "code",
   "execution_count": 45,
   "metadata": {},
   "outputs": [
    {
     "data": {
      "text/plain": [
       "array([[60,  9],\n",
       "       [ 8, 94]], dtype=int64)"
      ]
     },
     "execution_count": 45,
     "metadata": {},
     "output_type": "execute_result"
    }
   ],
   "source": [
    "confusion_matrix(y_test, y_pred_dt)"
   ]
  },
  {
   "cell_type": "code",
   "execution_count": 46,
   "metadata": {},
   "outputs": [
    {
     "name": "stdout",
     "output_type": "stream",
     "text": [
      "              precision    recall  f1-score   support\n",
      "\n",
      "           0       0.88      0.87      0.88        69\n",
      "           1       0.91      0.92      0.92       102\n",
      "\n",
      "    accuracy                           0.90       171\n",
      "   macro avg       0.90      0.90      0.90       171\n",
      "weighted avg       0.90      0.90      0.90       171\n",
      "\n"
     ]
    }
   ],
   "source": [
    "print(classification_report(y_test, y_pred_dt))"
   ]
  },
  {
   "cell_type": "markdown",
   "metadata": {},
   "source": [
    "### XGBoost Classifier"
   ]
  },
  {
   "cell_type": "code",
   "execution_count": 47,
   "metadata": {},
   "outputs": [],
   "source": [
    "from xgboost import XGBClassifier"
   ]
  },
  {
   "cell_type": "code",
   "execution_count": 48,
   "metadata": {},
   "outputs": [
    {
     "name": "stdout",
     "output_type": "stream",
     "text": [
      "[0]\tvalidation_0-error:0.04020\tvalidation_0-logloss:0.68482\tvalidation_1-error:0.09942\tvalidation_1-logloss:0.68604\n",
      "Multiple eval metrics have been passed: 'validation_1-logloss' will be used for early stopping.\n",
      "\n",
      "Will train until validation_1-logloss hasn't improved in 15 rounds.\n",
      "[1]\tvalidation_0-error:0.04020\tvalidation_0-logloss:0.67700\tvalidation_1-error:0.09357\tvalidation_1-logloss:0.67927\n",
      "[2]\tvalidation_0-error:0.03266\tvalidation_0-logloss:0.66916\tvalidation_1-error:0.08772\tvalidation_1-logloss:0.67272\n",
      "[3]\tvalidation_0-error:0.01759\tvalidation_0-logloss:0.66141\tvalidation_1-error:0.06433\tvalidation_1-logloss:0.66598\n",
      "[4]\tvalidation_0-error:0.02261\tvalidation_0-logloss:0.65450\tvalidation_1-error:0.07018\tvalidation_1-logloss:0.65992\n",
      "[5]\tvalidation_0-error:0.02764\tvalidation_0-logloss:0.64719\tvalidation_1-error:0.06433\tvalidation_1-logloss:0.65319\n",
      "[6]\tvalidation_0-error:0.02513\tvalidation_0-logloss:0.64023\tvalidation_1-error:0.06433\tvalidation_1-logloss:0.64709\n",
      "[7]\tvalidation_0-error:0.02764\tvalidation_0-logloss:0.63275\tvalidation_1-error:0.06433\tvalidation_1-logloss:0.64080\n",
      "[8]\tvalidation_0-error:0.01759\tvalidation_0-logloss:0.62582\tvalidation_1-error:0.07018\tvalidation_1-logloss:0.63502\n",
      "[9]\tvalidation_0-error:0.02010\tvalidation_0-logloss:0.61877\tvalidation_1-error:0.05848\tvalidation_1-logloss:0.62931\n",
      "[10]\tvalidation_0-error:0.02010\tvalidation_0-logloss:0.61196\tvalidation_1-error:0.05848\tvalidation_1-logloss:0.62350\n",
      "[11]\tvalidation_0-error:0.02010\tvalidation_0-logloss:0.60515\tvalidation_1-error:0.07018\tvalidation_1-logloss:0.61764\n",
      "[12]\tvalidation_0-error:0.02010\tvalidation_0-logloss:0.59876\tvalidation_1-error:0.07018\tvalidation_1-logloss:0.61209\n",
      "[13]\tvalidation_0-error:0.02261\tvalidation_0-logloss:0.59242\tvalidation_1-error:0.07602\tvalidation_1-logloss:0.60659\n",
      "[14]\tvalidation_0-error:0.02261\tvalidation_0-logloss:0.58579\tvalidation_1-error:0.08187\tvalidation_1-logloss:0.60129\n",
      "[15]\tvalidation_0-error:0.02261\tvalidation_0-logloss:0.57973\tvalidation_1-error:0.08187\tvalidation_1-logloss:0.59647\n",
      "[16]\tvalidation_0-error:0.02261\tvalidation_0-logloss:0.57342\tvalidation_1-error:0.07602\tvalidation_1-logloss:0.59117\n",
      "[17]\tvalidation_0-error:0.02513\tvalidation_0-logloss:0.56714\tvalidation_1-error:0.08187\tvalidation_1-logloss:0.58574\n",
      "[18]\tvalidation_0-error:0.02261\tvalidation_0-logloss:0.56090\tvalidation_1-error:0.08772\tvalidation_1-logloss:0.58057\n",
      "[19]\tvalidation_0-error:0.02261\tvalidation_0-logloss:0.55550\tvalidation_1-error:0.08187\tvalidation_1-logloss:0.57545\n",
      "[20]\tvalidation_0-error:0.02513\tvalidation_0-logloss:0.54965\tvalidation_1-error:0.08772\tvalidation_1-logloss:0.57047\n",
      "[21]\tvalidation_0-error:0.02513\tvalidation_0-logloss:0.54346\tvalidation_1-error:0.09357\tvalidation_1-logloss:0.56517\n",
      "[22]\tvalidation_0-error:0.02513\tvalidation_0-logloss:0.53834\tvalidation_1-error:0.09357\tvalidation_1-logloss:0.56108\n",
      "[23]\tvalidation_0-error:0.02513\tvalidation_0-logloss:0.53293\tvalidation_1-error:0.09357\tvalidation_1-logloss:0.55608\n",
      "[24]\tvalidation_0-error:0.02513\tvalidation_0-logloss:0.52762\tvalidation_1-error:0.08187\tvalidation_1-logloss:0.55141\n",
      "[25]\tvalidation_0-error:0.02261\tvalidation_0-logloss:0.52203\tvalidation_1-error:0.08187\tvalidation_1-logloss:0.54679\n",
      "[26]\tvalidation_0-error:0.02261\tvalidation_0-logloss:0.51689\tvalidation_1-error:0.08187\tvalidation_1-logloss:0.54188\n",
      "[27]\tvalidation_0-error:0.02261\tvalidation_0-logloss:0.51174\tvalidation_1-error:0.07602\tvalidation_1-logloss:0.53745\n",
      "[28]\tvalidation_0-error:0.02261\tvalidation_0-logloss:0.50668\tvalidation_1-error:0.07602\tvalidation_1-logloss:0.53312\n",
      "[29]\tvalidation_0-error:0.02261\tvalidation_0-logloss:0.50193\tvalidation_1-error:0.07018\tvalidation_1-logloss:0.52866\n",
      "[30]\tvalidation_0-error:0.02010\tvalidation_0-logloss:0.49672\tvalidation_1-error:0.07602\tvalidation_1-logloss:0.52443\n",
      "[31]\tvalidation_0-error:0.02010\tvalidation_0-logloss:0.49203\tvalidation_1-error:0.07018\tvalidation_1-logloss:0.52050\n",
      "[32]\tvalidation_0-error:0.02010\tvalidation_0-logloss:0.48730\tvalidation_1-error:0.07602\tvalidation_1-logloss:0.51636\n",
      "[33]\tvalidation_0-error:0.02010\tvalidation_0-logloss:0.48259\tvalidation_1-error:0.07018\tvalidation_1-logloss:0.51180\n",
      "[34]\tvalidation_0-error:0.02010\tvalidation_0-logloss:0.47788\tvalidation_1-error:0.07018\tvalidation_1-logloss:0.50779\n",
      "[35]\tvalidation_0-error:0.02010\tvalidation_0-logloss:0.47321\tvalidation_1-error:0.07018\tvalidation_1-logloss:0.50402\n",
      "[36]\tvalidation_0-error:0.02010\tvalidation_0-logloss:0.46840\tvalidation_1-error:0.07018\tvalidation_1-logloss:0.50014\n",
      "[37]\tvalidation_0-error:0.02010\tvalidation_0-logloss:0.46425\tvalidation_1-error:0.07018\tvalidation_1-logloss:0.49665\n",
      "[38]\tvalidation_0-error:0.02010\tvalidation_0-logloss:0.45977\tvalidation_1-error:0.07018\tvalidation_1-logloss:0.49282\n",
      "[39]\tvalidation_0-error:0.02010\tvalidation_0-logloss:0.45525\tvalidation_1-error:0.07018\tvalidation_1-logloss:0.48901\n",
      "[40]\tvalidation_0-error:0.02010\tvalidation_0-logloss:0.45075\tvalidation_1-error:0.07602\tvalidation_1-logloss:0.48533\n",
      "[41]\tvalidation_0-error:0.02010\tvalidation_0-logloss:0.44675\tvalidation_1-error:0.07602\tvalidation_1-logloss:0.48141\n",
      "[42]\tvalidation_0-error:0.02010\tvalidation_0-logloss:0.44253\tvalidation_1-error:0.07602\tvalidation_1-logloss:0.47775\n",
      "[43]\tvalidation_0-error:0.02010\tvalidation_0-logloss:0.43847\tvalidation_1-error:0.07018\tvalidation_1-logloss:0.47449\n",
      "[44]\tvalidation_0-error:0.02010\tvalidation_0-logloss:0.43426\tvalidation_1-error:0.07018\tvalidation_1-logloss:0.47086\n",
      "[45]\tvalidation_0-error:0.02010\tvalidation_0-logloss:0.43013\tvalidation_1-error:0.07018\tvalidation_1-logloss:0.46742\n",
      "[46]\tvalidation_0-error:0.02261\tvalidation_0-logloss:0.42617\tvalidation_1-error:0.07018\tvalidation_1-logloss:0.46385\n",
      "[47]\tvalidation_0-error:0.02513\tvalidation_0-logloss:0.42204\tvalidation_1-error:0.07602\tvalidation_1-logloss:0.46060\n",
      "[48]\tvalidation_0-error:0.02513\tvalidation_0-logloss:0.41827\tvalidation_1-error:0.07018\tvalidation_1-logloss:0.45749\n",
      "[49]\tvalidation_0-error:0.02513\tvalidation_0-logloss:0.41430\tvalidation_1-error:0.07018\tvalidation_1-logloss:0.45443\n",
      "[50]\tvalidation_0-error:0.02764\tvalidation_0-logloss:0.41041\tvalidation_1-error:0.07018\tvalidation_1-logloss:0.45110\n",
      "[51]\tvalidation_0-error:0.02764\tvalidation_0-logloss:0.40643\tvalidation_1-error:0.07018\tvalidation_1-logloss:0.44797\n",
      "[52]\tvalidation_0-error:0.02261\tvalidation_0-logloss:0.40285\tvalidation_1-error:0.07018\tvalidation_1-logloss:0.44518\n",
      "[53]\tvalidation_0-error:0.02261\tvalidation_0-logloss:0.39921\tvalidation_1-error:0.07602\tvalidation_1-logloss:0.44205\n",
      "[54]\tvalidation_0-error:0.02010\tvalidation_0-logloss:0.39539\tvalidation_1-error:0.07602\tvalidation_1-logloss:0.43903\n",
      "[55]\tvalidation_0-error:0.02010\tvalidation_0-logloss:0.39183\tvalidation_1-error:0.07602\tvalidation_1-logloss:0.43611\n",
      "[56]\tvalidation_0-error:0.02010\tvalidation_0-logloss:0.38825\tvalidation_1-error:0.07602\tvalidation_1-logloss:0.43315\n",
      "[57]\tvalidation_0-error:0.02010\tvalidation_0-logloss:0.38470\tvalidation_1-error:0.07602\tvalidation_1-logloss:0.43007\n",
      "[58]\tvalidation_0-error:0.02010\tvalidation_0-logloss:0.38127\tvalidation_1-error:0.07018\tvalidation_1-logloss:0.42692\n",
      "[59]\tvalidation_0-error:0.02010\tvalidation_0-logloss:0.37781\tvalidation_1-error:0.07018\tvalidation_1-logloss:0.42393\n",
      "[60]\tvalidation_0-error:0.02010\tvalidation_0-logloss:0.37441\tvalidation_1-error:0.07018\tvalidation_1-logloss:0.42124\n",
      "[61]\tvalidation_0-error:0.02010\tvalidation_0-logloss:0.37095\tvalidation_1-error:0.07018\tvalidation_1-logloss:0.41838\n",
      "[62]\tvalidation_0-error:0.02010\tvalidation_0-logloss:0.36765\tvalidation_1-error:0.07602\tvalidation_1-logloss:0.41569\n",
      "[63]\tvalidation_0-error:0.02010\tvalidation_0-logloss:0.36429\tvalidation_1-error:0.07602\tvalidation_1-logloss:0.41305\n",
      "[64]\tvalidation_0-error:0.02010\tvalidation_0-logloss:0.36101\tvalidation_1-error:0.07602\tvalidation_1-logloss:0.41053\n",
      "[65]\tvalidation_0-error:0.02010\tvalidation_0-logloss:0.35803\tvalidation_1-error:0.07602\tvalidation_1-logloss:0.40791\n",
      "[66]\tvalidation_0-error:0.02010\tvalidation_0-logloss:0.35493\tvalidation_1-error:0.07018\tvalidation_1-logloss:0.40533\n",
      "[67]\tvalidation_0-error:0.02010\tvalidation_0-logloss:0.35181\tvalidation_1-error:0.07602\tvalidation_1-logloss:0.40270\n",
      "[68]\tvalidation_0-error:0.02010\tvalidation_0-logloss:0.34882\tvalidation_1-error:0.07018\tvalidation_1-logloss:0.39997\n",
      "[69]\tvalidation_0-error:0.02010\tvalidation_0-logloss:0.34580\tvalidation_1-error:0.07018\tvalidation_1-logloss:0.39724\n",
      "[70]\tvalidation_0-error:0.02010\tvalidation_0-logloss:0.34258\tvalidation_1-error:0.07018\tvalidation_1-logloss:0.39463\n",
      "[71]\tvalidation_0-error:0.02010\tvalidation_0-logloss:0.33955\tvalidation_1-error:0.07018\tvalidation_1-logloss:0.39225\n",
      "[72]\tvalidation_0-error:0.02010\tvalidation_0-logloss:0.33670\tvalidation_1-error:0.07018\tvalidation_1-logloss:0.38994\n",
      "[73]\tvalidation_0-error:0.02010\tvalidation_0-logloss:0.33397\tvalidation_1-error:0.07018\tvalidation_1-logloss:0.38747\n",
      "[74]\tvalidation_0-error:0.02010\tvalidation_0-logloss:0.33126\tvalidation_1-error:0.07018\tvalidation_1-logloss:0.38510\n",
      "[75]\tvalidation_0-error:0.02010\tvalidation_0-logloss:0.32848\tvalidation_1-error:0.07018\tvalidation_1-logloss:0.38269\n",
      "[76]\tvalidation_0-error:0.02513\tvalidation_0-logloss:0.32567\tvalidation_1-error:0.07018\tvalidation_1-logloss:0.38047\n",
      "[77]\tvalidation_0-error:0.02513\tvalidation_0-logloss:0.32280\tvalidation_1-error:0.07602\tvalidation_1-logloss:0.37814\n",
      "[78]\tvalidation_0-error:0.02261\tvalidation_0-logloss:0.32019\tvalidation_1-error:0.07018\tvalidation_1-logloss:0.37590\n",
      "[79]\tvalidation_0-error:0.02261\tvalidation_0-logloss:0.31766\tvalidation_1-error:0.07602\tvalidation_1-logloss:0.37351\n",
      "[80]\tvalidation_0-error:0.02513\tvalidation_0-logloss:0.31483\tvalidation_1-error:0.07602\tvalidation_1-logloss:0.37151\n",
      "[81]\tvalidation_0-error:0.02261\tvalidation_0-logloss:0.31224\tvalidation_1-error:0.07602\tvalidation_1-logloss:0.36927\n",
      "[82]\tvalidation_0-error:0.02261\tvalidation_0-logloss:0.30974\tvalidation_1-error:0.07602\tvalidation_1-logloss:0.36664\n",
      "[83]\tvalidation_0-error:0.02261\tvalidation_0-logloss:0.30733\tvalidation_1-error:0.07602\tvalidation_1-logloss:0.36454\n",
      "[84]\tvalidation_0-error:0.02261\tvalidation_0-logloss:0.30475\tvalidation_1-error:0.07018\tvalidation_1-logloss:0.36227\n",
      "[85]\tvalidation_0-error:0.02010\tvalidation_0-logloss:0.30212\tvalidation_1-error:0.07602\tvalidation_1-logloss:0.36026\n",
      "[86]\tvalidation_0-error:0.02010\tvalidation_0-logloss:0.29967\tvalidation_1-error:0.07018\tvalidation_1-logloss:0.35818\n",
      "[87]\tvalidation_0-error:0.02010\tvalidation_0-logloss:0.29724\tvalidation_1-error:0.07018\tvalidation_1-logloss:0.35619\n",
      "[88]\tvalidation_0-error:0.02010\tvalidation_0-logloss:0.29474\tvalidation_1-error:0.07018\tvalidation_1-logloss:0.35423\n",
      "[89]\tvalidation_0-error:0.02010\tvalidation_0-logloss:0.29247\tvalidation_1-error:0.07018\tvalidation_1-logloss:0.35239\n",
      "[90]\tvalidation_0-error:0.02010\tvalidation_0-logloss:0.29042\tvalidation_1-error:0.07018\tvalidation_1-logloss:0.35066\n",
      "[91]\tvalidation_0-error:0.02010\tvalidation_0-logloss:0.28798\tvalidation_1-error:0.07018\tvalidation_1-logloss:0.34862\n",
      "[92]\tvalidation_0-error:0.02010\tvalidation_0-logloss:0.28588\tvalidation_1-error:0.07018\tvalidation_1-logloss:0.34690\n",
      "[93]\tvalidation_0-error:0.02010\tvalidation_0-logloss:0.28341\tvalidation_1-error:0.07018\tvalidation_1-logloss:0.34491\n",
      "[94]\tvalidation_0-error:0.02010\tvalidation_0-logloss:0.28109\tvalidation_1-error:0.07018\tvalidation_1-logloss:0.34314\n",
      "[95]\tvalidation_0-error:0.02010\tvalidation_0-logloss:0.27900\tvalidation_1-error:0.07018\tvalidation_1-logloss:0.34156\n",
      "[96]\tvalidation_0-error:0.02010\tvalidation_0-logloss:0.27693\tvalidation_1-error:0.07018\tvalidation_1-logloss:0.33983\n",
      "[97]\tvalidation_0-error:0.02010\tvalidation_0-logloss:0.27469\tvalidation_1-error:0.07018\tvalidation_1-logloss:0.33791\n",
      "[98]\tvalidation_0-error:0.02010\tvalidation_0-logloss:0.27259\tvalidation_1-error:0.07018\tvalidation_1-logloss:0.33661\n",
      "[99]\tvalidation_0-error:0.02010\tvalidation_0-logloss:0.27047\tvalidation_1-error:0.07018\tvalidation_1-logloss:0.33485\n",
      "[100]\tvalidation_0-error:0.02010\tvalidation_0-logloss:0.26829\tvalidation_1-error:0.07018\tvalidation_1-logloss:0.33303\n",
      "[101]\tvalidation_0-error:0.02010\tvalidation_0-logloss:0.26610\tvalidation_1-error:0.07018\tvalidation_1-logloss:0.33126\n",
      "[102]\tvalidation_0-error:0.02010\tvalidation_0-logloss:0.26405\tvalidation_1-error:0.07018\tvalidation_1-logloss:0.32954\n",
      "[103]\tvalidation_0-error:0.02010\tvalidation_0-logloss:0.26198\tvalidation_1-error:0.07018\tvalidation_1-logloss:0.32776\n",
      "[104]\tvalidation_0-error:0.02010\tvalidation_0-logloss:0.26005\tvalidation_1-error:0.07018\tvalidation_1-logloss:0.32614\n",
      "[105]\tvalidation_0-error:0.02010\tvalidation_0-logloss:0.25819\tvalidation_1-error:0.07018\tvalidation_1-logloss:0.32417\n",
      "[106]\tvalidation_0-error:0.02010\tvalidation_0-logloss:0.25623\tvalidation_1-error:0.07018\tvalidation_1-logloss:0.32251\n",
      "[107]\tvalidation_0-error:0.02010\tvalidation_0-logloss:0.25420\tvalidation_1-error:0.07018\tvalidation_1-logloss:0.32106\n",
      "[108]\tvalidation_0-error:0.02010\tvalidation_0-logloss:0.25243\tvalidation_1-error:0.07018\tvalidation_1-logloss:0.31959\n",
      "[109]\tvalidation_0-error:0.02010\tvalidation_0-logloss:0.25046\tvalidation_1-error:0.07018\tvalidation_1-logloss:0.31814\n",
      "[110]\tvalidation_0-error:0.02010\tvalidation_0-logloss:0.24870\tvalidation_1-error:0.07018\tvalidation_1-logloss:0.31671\n",
      "[111]\tvalidation_0-error:0.02010\tvalidation_0-logloss:0.24688\tvalidation_1-error:0.07018\tvalidation_1-logloss:0.31492\n",
      "[112]\tvalidation_0-error:0.02010\tvalidation_0-logloss:0.24493\tvalidation_1-error:0.07018\tvalidation_1-logloss:0.31355\n",
      "[113]\tvalidation_0-error:0.02010\tvalidation_0-logloss:0.24318\tvalidation_1-error:0.07018\tvalidation_1-logloss:0.31203\n",
      "[114]\tvalidation_0-error:0.02010\tvalidation_0-logloss:0.24137\tvalidation_1-error:0.07018\tvalidation_1-logloss:0.31026\n",
      "[115]\tvalidation_0-error:0.02010\tvalidation_0-logloss:0.23944\tvalidation_1-error:0.07018\tvalidation_1-logloss:0.30889\n",
      "[116]\tvalidation_0-error:0.02010\tvalidation_0-logloss:0.23751\tvalidation_1-error:0.07018\tvalidation_1-logloss:0.30743\n",
      "[117]\tvalidation_0-error:0.02010\tvalidation_0-logloss:0.23575\tvalidation_1-error:0.07018\tvalidation_1-logloss:0.30629\n",
      "[118]\tvalidation_0-error:0.02010\tvalidation_0-logloss:0.23401\tvalidation_1-error:0.07018\tvalidation_1-logloss:0.30504\n",
      "[119]\tvalidation_0-error:0.02010\tvalidation_0-logloss:0.23241\tvalidation_1-error:0.07018\tvalidation_1-logloss:0.30369\n",
      "[120]\tvalidation_0-error:0.02010\tvalidation_0-logloss:0.23096\tvalidation_1-error:0.07018\tvalidation_1-logloss:0.30241\n",
      "[121]\tvalidation_0-error:0.02010\tvalidation_0-logloss:0.22915\tvalidation_1-error:0.07018\tvalidation_1-logloss:0.30119\n",
      "[122]\tvalidation_0-error:0.02010\tvalidation_0-logloss:0.22763\tvalidation_1-error:0.07018\tvalidation_1-logloss:0.29984\n",
      "[123]\tvalidation_0-error:0.02010\tvalidation_0-logloss:0.22602\tvalidation_1-error:0.07018\tvalidation_1-logloss:0.29859\n",
      "[124]\tvalidation_0-error:0.02010\tvalidation_0-logloss:0.22453\tvalidation_1-error:0.07018\tvalidation_1-logloss:0.29712\n",
      "[125]\tvalidation_0-error:0.02010\tvalidation_0-logloss:0.22304\tvalidation_1-error:0.07018\tvalidation_1-logloss:0.29563\n",
      "[126]\tvalidation_0-error:0.02010\tvalidation_0-logloss:0.22139\tvalidation_1-error:0.07018\tvalidation_1-logloss:0.29450\n",
      "[127]\tvalidation_0-error:0.02010\tvalidation_0-logloss:0.21986\tvalidation_1-error:0.07018\tvalidation_1-logloss:0.29340\n",
      "[128]\tvalidation_0-error:0.02010\tvalidation_0-logloss:0.21818\tvalidation_1-error:0.07018\tvalidation_1-logloss:0.29205\n",
      "[129]\tvalidation_0-error:0.02010\tvalidation_0-logloss:0.21656\tvalidation_1-error:0.07018\tvalidation_1-logloss:0.29089\n",
      "[130]\tvalidation_0-error:0.02010\tvalidation_0-logloss:0.21504\tvalidation_1-error:0.07018\tvalidation_1-logloss:0.28961\n",
      "[131]\tvalidation_0-error:0.02010\tvalidation_0-logloss:0.21372\tvalidation_1-error:0.07018\tvalidation_1-logloss:0.28838\n",
      "[132]\tvalidation_0-error:0.02010\tvalidation_0-logloss:0.21227\tvalidation_1-error:0.07018\tvalidation_1-logloss:0.28714\n",
      "[133]\tvalidation_0-error:0.02010\tvalidation_0-logloss:0.21070\tvalidation_1-error:0.07018\tvalidation_1-logloss:0.28602\n",
      "[134]\tvalidation_0-error:0.02010\tvalidation_0-logloss:0.20922\tvalidation_1-error:0.07018\tvalidation_1-logloss:0.28494\n",
      "[135]\tvalidation_0-error:0.02010\tvalidation_0-logloss:0.20774\tvalidation_1-error:0.07018\tvalidation_1-logloss:0.28356\n",
      "[136]\tvalidation_0-error:0.02010\tvalidation_0-logloss:0.20629\tvalidation_1-error:0.07018\tvalidation_1-logloss:0.28264\n",
      "[137]\tvalidation_0-error:0.02010\tvalidation_0-logloss:0.20485\tvalidation_1-error:0.07018\tvalidation_1-logloss:0.28122\n",
      "[138]\tvalidation_0-error:0.02010\tvalidation_0-logloss:0.20352\tvalidation_1-error:0.07018\tvalidation_1-logloss:0.27988\n",
      "[139]\tvalidation_0-error:0.02010\tvalidation_0-logloss:0.20215\tvalidation_1-error:0.06433\tvalidation_1-logloss:0.27892\n",
      "[140]\tvalidation_0-error:0.02010\tvalidation_0-logloss:0.20081\tvalidation_1-error:0.07018\tvalidation_1-logloss:0.27800\n",
      "[141]\tvalidation_0-error:0.02010\tvalidation_0-logloss:0.19954\tvalidation_1-error:0.07018\tvalidation_1-logloss:0.27670\n",
      "[142]\tvalidation_0-error:0.02010\tvalidation_0-logloss:0.19821\tvalidation_1-error:0.07018\tvalidation_1-logloss:0.27581\n",
      "[143]\tvalidation_0-error:0.02010\tvalidation_0-logloss:0.19699\tvalidation_1-error:0.07018\tvalidation_1-logloss:0.27483\n",
      "[144]\tvalidation_0-error:0.02010\tvalidation_0-logloss:0.19557\tvalidation_1-error:0.06433\tvalidation_1-logloss:0.27376\n",
      "[145]\tvalidation_0-error:0.02010\tvalidation_0-logloss:0.19421\tvalidation_1-error:0.06433\tvalidation_1-logloss:0.27282\n",
      "[146]\tvalidation_0-error:0.02010\tvalidation_0-logloss:0.19292\tvalidation_1-error:0.06433\tvalidation_1-logloss:0.27188\n",
      "[147]\tvalidation_0-error:0.02010\tvalidation_0-logloss:0.19162\tvalidation_1-error:0.06433\tvalidation_1-logloss:0.27090\n",
      "[148]\tvalidation_0-error:0.02010\tvalidation_0-logloss:0.19032\tvalidation_1-error:0.06433\tvalidation_1-logloss:0.27002\n",
      "[149]\tvalidation_0-error:0.02010\tvalidation_0-logloss:0.18909\tvalidation_1-error:0.06433\tvalidation_1-logloss:0.26915\n",
      "[150]\tvalidation_0-error:0.02010\tvalidation_0-logloss:0.18780\tvalidation_1-error:0.06433\tvalidation_1-logloss:0.26804\n",
      "[151]\tvalidation_0-error:0.02010\tvalidation_0-logloss:0.18674\tvalidation_1-error:0.06433\tvalidation_1-logloss:0.26691\n",
      "[152]\tvalidation_0-error:0.02010\tvalidation_0-logloss:0.18554\tvalidation_1-error:0.06433\tvalidation_1-logloss:0.26592\n",
      "[153]\tvalidation_0-error:0.02010\tvalidation_0-logloss:0.18437\tvalidation_1-error:0.06433\tvalidation_1-logloss:0.26491\n",
      "[154]\tvalidation_0-error:0.02010\tvalidation_0-logloss:0.18311\tvalidation_1-error:0.07018\tvalidation_1-logloss:0.26378\n",
      "[155]\tvalidation_0-error:0.02010\tvalidation_0-logloss:0.18197\tvalidation_1-error:0.07018\tvalidation_1-logloss:0.26284\n",
      "[156]\tvalidation_0-error:0.02010\tvalidation_0-logloss:0.18077\tvalidation_1-error:0.07018\tvalidation_1-logloss:0.26199\n",
      "[157]\tvalidation_0-error:0.02010\tvalidation_0-logloss:0.17972\tvalidation_1-error:0.07018\tvalidation_1-logloss:0.26089\n",
      "[158]\tvalidation_0-error:0.02010\tvalidation_0-logloss:0.17849\tvalidation_1-error:0.07018\tvalidation_1-logloss:0.26028\n",
      "[159]\tvalidation_0-error:0.02010\tvalidation_0-logloss:0.17735\tvalidation_1-error:0.07018\tvalidation_1-logloss:0.25931\n",
      "[160]\tvalidation_0-error:0.02010\tvalidation_0-logloss:0.17640\tvalidation_1-error:0.07018\tvalidation_1-logloss:0.25866\n",
      "[161]\tvalidation_0-error:0.02010\tvalidation_0-logloss:0.17519\tvalidation_1-error:0.07018\tvalidation_1-logloss:0.25757\n",
      "[162]\tvalidation_0-error:0.02010\tvalidation_0-logloss:0.17404\tvalidation_1-error:0.07018\tvalidation_1-logloss:0.25669\n",
      "[163]\tvalidation_0-error:0.02010\tvalidation_0-logloss:0.17287\tvalidation_1-error:0.07018\tvalidation_1-logloss:0.25553\n",
      "[164]\tvalidation_0-error:0.02010\tvalidation_0-logloss:0.17191\tvalidation_1-error:0.07018\tvalidation_1-logloss:0.25453\n",
      "[165]\tvalidation_0-error:0.02010\tvalidation_0-logloss:0.17097\tvalidation_1-error:0.07018\tvalidation_1-logloss:0.25379\n",
      "[166]\tvalidation_0-error:0.02010\tvalidation_0-logloss:0.17005\tvalidation_1-error:0.07018\tvalidation_1-logloss:0.25313\n",
      "[167]\tvalidation_0-error:0.02010\tvalidation_0-logloss:0.16893\tvalidation_1-error:0.07018\tvalidation_1-logloss:0.25241\n",
      "[168]\tvalidation_0-error:0.02010\tvalidation_0-logloss:0.16796\tvalidation_1-error:0.07018\tvalidation_1-logloss:0.25152\n",
      "[169]\tvalidation_0-error:0.02010\tvalidation_0-logloss:0.16689\tvalidation_1-error:0.07018\tvalidation_1-logloss:0.25081\n",
      "[170]\tvalidation_0-error:0.02010\tvalidation_0-logloss:0.16586\tvalidation_1-error:0.07018\tvalidation_1-logloss:0.25007\n",
      "[171]\tvalidation_0-error:0.02010\tvalidation_0-logloss:0.16478\tvalidation_1-error:0.07018\tvalidation_1-logloss:0.24919\n",
      "[172]\tvalidation_0-error:0.02010\tvalidation_0-logloss:0.16379\tvalidation_1-error:0.07018\tvalidation_1-logloss:0.24871\n",
      "[173]\tvalidation_0-error:0.02010\tvalidation_0-logloss:0.16280\tvalidation_1-error:0.07018\tvalidation_1-logloss:0.24757\n",
      "[174]\tvalidation_0-error:0.02010\tvalidation_0-logloss:0.16181\tvalidation_1-error:0.06433\tvalidation_1-logloss:0.24642\n",
      "[175]\tvalidation_0-error:0.02010\tvalidation_0-logloss:0.16090\tvalidation_1-error:0.06433\tvalidation_1-logloss:0.24562\n",
      "[176]\tvalidation_0-error:0.02010\tvalidation_0-logloss:0.15991\tvalidation_1-error:0.06433\tvalidation_1-logloss:0.24464\n",
      "[177]\tvalidation_0-error:0.02010\tvalidation_0-logloss:0.15898\tvalidation_1-error:0.06433\tvalidation_1-logloss:0.24413\n",
      "[178]\tvalidation_0-error:0.02010\tvalidation_0-logloss:0.15809\tvalidation_1-error:0.06433\tvalidation_1-logloss:0.24350\n",
      "[179]\tvalidation_0-error:0.02010\tvalidation_0-logloss:0.15707\tvalidation_1-error:0.06433\tvalidation_1-logloss:0.24285\n",
      "[180]\tvalidation_0-error:0.02010\tvalidation_0-logloss:0.15618\tvalidation_1-error:0.06433\tvalidation_1-logloss:0.24227\n",
      "[181]\tvalidation_0-error:0.02010\tvalidation_0-logloss:0.15537\tvalidation_1-error:0.07018\tvalidation_1-logloss:0.24154\n",
      "[182]\tvalidation_0-error:0.02010\tvalidation_0-logloss:0.15448\tvalidation_1-error:0.07018\tvalidation_1-logloss:0.24098\n",
      "[183]\tvalidation_0-error:0.02010\tvalidation_0-logloss:0.15355\tvalidation_1-error:0.06433\tvalidation_1-logloss:0.24017\n",
      "[184]\tvalidation_0-error:0.02010\tvalidation_0-logloss:0.15257\tvalidation_1-error:0.06433\tvalidation_1-logloss:0.23952\n",
      "[185]\tvalidation_0-error:0.02010\tvalidation_0-logloss:0.15161\tvalidation_1-error:0.06433\tvalidation_1-logloss:0.23913\n",
      "[186]\tvalidation_0-error:0.02010\tvalidation_0-logloss:0.15054\tvalidation_1-error:0.06433\tvalidation_1-logloss:0.23822\n",
      "[187]\tvalidation_0-error:0.02010\tvalidation_0-logloss:0.14961\tvalidation_1-error:0.06433\tvalidation_1-logloss:0.23781\n",
      "[188]\tvalidation_0-error:0.02010\tvalidation_0-logloss:0.14878\tvalidation_1-error:0.06433\tvalidation_1-logloss:0.23725\n",
      "[189]\tvalidation_0-error:0.02010\tvalidation_0-logloss:0.14787\tvalidation_1-error:0.06433\tvalidation_1-logloss:0.23637\n",
      "[190]\tvalidation_0-error:0.02010\tvalidation_0-logloss:0.14697\tvalidation_1-error:0.06433\tvalidation_1-logloss:0.23588\n",
      "[191]\tvalidation_0-error:0.02010\tvalidation_0-logloss:0.14607\tvalidation_1-error:0.06433\tvalidation_1-logloss:0.23499\n",
      "[192]\tvalidation_0-error:0.02010\tvalidation_0-logloss:0.14519\tvalidation_1-error:0.06433\tvalidation_1-logloss:0.23435\n",
      "[193]\tvalidation_0-error:0.02010\tvalidation_0-logloss:0.14444\tvalidation_1-error:0.06433\tvalidation_1-logloss:0.23367\n",
      "[194]\tvalidation_0-error:0.02010\tvalidation_0-logloss:0.14356\tvalidation_1-error:0.06433\tvalidation_1-logloss:0.23330\n",
      "[195]\tvalidation_0-error:0.02010\tvalidation_0-logloss:0.14256\tvalidation_1-error:0.06433\tvalidation_1-logloss:0.23231\n",
      "[196]\tvalidation_0-error:0.02010\tvalidation_0-logloss:0.14172\tvalidation_1-error:0.06433\tvalidation_1-logloss:0.23179\n",
      "[197]\tvalidation_0-error:0.02010\tvalidation_0-logloss:0.14092\tvalidation_1-error:0.06433\tvalidation_1-logloss:0.23119\n",
      "[198]\tvalidation_0-error:0.02010\tvalidation_0-logloss:0.14016\tvalidation_1-error:0.06433\tvalidation_1-logloss:0.23066\n",
      "[199]\tvalidation_0-error:0.02010\tvalidation_0-logloss:0.13946\tvalidation_1-error:0.06433\tvalidation_1-logloss:0.23031\n",
      "[200]\tvalidation_0-error:0.02010\tvalidation_0-logloss:0.13863\tvalidation_1-error:0.06433\tvalidation_1-logloss:0.22984\n",
      "[201]\tvalidation_0-error:0.02010\tvalidation_0-logloss:0.13792\tvalidation_1-error:0.06433\tvalidation_1-logloss:0.22961\n",
      "[202]\tvalidation_0-error:0.02010\tvalidation_0-logloss:0.13725\tvalidation_1-error:0.06433\tvalidation_1-logloss:0.22922\n",
      "[203]\tvalidation_0-error:0.02010\tvalidation_0-logloss:0.13654\tvalidation_1-error:0.06433\tvalidation_1-logloss:0.22818\n",
      "[204]\tvalidation_0-error:0.02010\tvalidation_0-logloss:0.13583\tvalidation_1-error:0.06433\tvalidation_1-logloss:0.22781\n",
      "[205]\tvalidation_0-error:0.02010\tvalidation_0-logloss:0.13514\tvalidation_1-error:0.06433\tvalidation_1-logloss:0.22741\n",
      "[206]\tvalidation_0-error:0.02010\tvalidation_0-logloss:0.13456\tvalidation_1-error:0.06433\tvalidation_1-logloss:0.22649\n",
      "[207]\tvalidation_0-error:0.02010\tvalidation_0-logloss:0.13382\tvalidation_1-error:0.06433\tvalidation_1-logloss:0.22607\n",
      "[208]\tvalidation_0-error:0.02010\tvalidation_0-logloss:0.13314\tvalidation_1-error:0.06433\tvalidation_1-logloss:0.22569\n",
      "[209]\tvalidation_0-error:0.02010\tvalidation_0-logloss:0.13244\tvalidation_1-error:0.06433\tvalidation_1-logloss:0.22526\n",
      "[210]\tvalidation_0-error:0.02010\tvalidation_0-logloss:0.13179\tvalidation_1-error:0.06433\tvalidation_1-logloss:0.22464\n",
      "[211]\tvalidation_0-error:0.02010\tvalidation_0-logloss:0.13093\tvalidation_1-error:0.06433\tvalidation_1-logloss:0.22379\n",
      "[212]\tvalidation_0-error:0.02010\tvalidation_0-logloss:0.13037\tvalidation_1-error:0.06433\tvalidation_1-logloss:0.22380\n",
      "[213]\tvalidation_0-error:0.02010\tvalidation_0-logloss:0.12959\tvalidation_1-error:0.06433\tvalidation_1-logloss:0.22341\n",
      "[214]\tvalidation_0-error:0.01759\tvalidation_0-logloss:0.12898\tvalidation_1-error:0.06433\tvalidation_1-logloss:0.22297\n",
      "[215]\tvalidation_0-error:0.01759\tvalidation_0-logloss:0.12828\tvalidation_1-error:0.06433\tvalidation_1-logloss:0.22230\n",
      "[216]\tvalidation_0-error:0.01759\tvalidation_0-logloss:0.12764\tvalidation_1-error:0.06433\tvalidation_1-logloss:0.22198\n",
      "[217]\tvalidation_0-error:0.01759\tvalidation_0-logloss:0.12707\tvalidation_1-error:0.06433\tvalidation_1-logloss:0.22153\n",
      "[218]\tvalidation_0-error:0.01759\tvalidation_0-logloss:0.12634\tvalidation_1-error:0.06433\tvalidation_1-logloss:0.22106\n",
      "[219]\tvalidation_0-error:0.01759\tvalidation_0-logloss:0.12570\tvalidation_1-error:0.06433\tvalidation_1-logloss:0.22086\n",
      "[220]\tvalidation_0-error:0.01759\tvalidation_0-logloss:0.12510\tvalidation_1-error:0.06433\tvalidation_1-logloss:0.22027\n",
      "[221]\tvalidation_0-error:0.01759\tvalidation_0-logloss:0.12452\tvalidation_1-error:0.06433\tvalidation_1-logloss:0.21981\n",
      "[222]\tvalidation_0-error:0.01759\tvalidation_0-logloss:0.12397\tvalidation_1-error:0.06433\tvalidation_1-logloss:0.21912\n",
      "[223]\tvalidation_0-error:0.01759\tvalidation_0-logloss:0.12344\tvalidation_1-error:0.06433\tvalidation_1-logloss:0.21869\n",
      "[224]\tvalidation_0-error:0.01759\tvalidation_0-logloss:0.12274\tvalidation_1-error:0.06433\tvalidation_1-logloss:0.21831\n",
      "[225]\tvalidation_0-error:0.01759\tvalidation_0-logloss:0.12221\tvalidation_1-error:0.06433\tvalidation_1-logloss:0.21777\n",
      "[226]\tvalidation_0-error:0.01759\tvalidation_0-logloss:0.12157\tvalidation_1-error:0.06433\tvalidation_1-logloss:0.21730\n",
      "[227]\tvalidation_0-error:0.01759\tvalidation_0-logloss:0.12081\tvalidation_1-error:0.06433\tvalidation_1-logloss:0.21673\n",
      "[228]\tvalidation_0-error:0.01759\tvalidation_0-logloss:0.12022\tvalidation_1-error:0.06433\tvalidation_1-logloss:0.21611\n",
      "[229]\tvalidation_0-error:0.01759\tvalidation_0-logloss:0.11972\tvalidation_1-error:0.06433\tvalidation_1-logloss:0.21583\n",
      "[230]\tvalidation_0-error:0.01759\tvalidation_0-logloss:0.11909\tvalidation_1-error:0.06433\tvalidation_1-logloss:0.21551\n",
      "[231]\tvalidation_0-error:0.01759\tvalidation_0-logloss:0.11849\tvalidation_1-error:0.06433\tvalidation_1-logloss:0.21489\n",
      "[232]\tvalidation_0-error:0.01759\tvalidation_0-logloss:0.11789\tvalidation_1-error:0.06433\tvalidation_1-logloss:0.21430\n",
      "[233]\tvalidation_0-error:0.01759\tvalidation_0-logloss:0.11710\tvalidation_1-error:0.06433\tvalidation_1-logloss:0.21358\n",
      "[234]\tvalidation_0-error:0.01759\tvalidation_0-logloss:0.11658\tvalidation_1-error:0.06433\tvalidation_1-logloss:0.21320\n",
      "[235]\tvalidation_0-error:0.01759\tvalidation_0-logloss:0.11602\tvalidation_1-error:0.06433\tvalidation_1-logloss:0.21271\n",
      "[236]\tvalidation_0-error:0.01759\tvalidation_0-logloss:0.11554\tvalidation_1-error:0.06433\tvalidation_1-logloss:0.21230\n",
      "[237]\tvalidation_0-error:0.01759\tvalidation_0-logloss:0.11506\tvalidation_1-error:0.06433\tvalidation_1-logloss:0.21190\n",
      "[238]\tvalidation_0-error:0.01759\tvalidation_0-logloss:0.11449\tvalidation_1-error:0.06433\tvalidation_1-logloss:0.21142\n",
      "[239]\tvalidation_0-error:0.01759\tvalidation_0-logloss:0.11401\tvalidation_1-error:0.06433\tvalidation_1-logloss:0.21116\n",
      "[240]\tvalidation_0-error:0.01759\tvalidation_0-logloss:0.11336\tvalidation_1-error:0.06433\tvalidation_1-logloss:0.21061\n",
      "[241]\tvalidation_0-error:0.01759\tvalidation_0-logloss:0.11288\tvalidation_1-error:0.06433\tvalidation_1-logloss:0.21026\n",
      "[242]\tvalidation_0-error:0.01759\tvalidation_0-logloss:0.11224\tvalidation_1-error:0.06433\tvalidation_1-logloss:0.21008\n",
      "[243]\tvalidation_0-error:0.01759\tvalidation_0-logloss:0.11171\tvalidation_1-error:0.06433\tvalidation_1-logloss:0.20982\n",
      "[244]\tvalidation_0-error:0.01759\tvalidation_0-logloss:0.11114\tvalidation_1-error:0.06433\tvalidation_1-logloss:0.20935\n",
      "[245]\tvalidation_0-error:0.01759\tvalidation_0-logloss:0.11066\tvalidation_1-error:0.06433\tvalidation_1-logloss:0.20913\n",
      "[246]\tvalidation_0-error:0.01759\tvalidation_0-logloss:0.11014\tvalidation_1-error:0.06433\tvalidation_1-logloss:0.20880\n",
      "[247]\tvalidation_0-error:0.01759\tvalidation_0-logloss:0.10971\tvalidation_1-error:0.05848\tvalidation_1-logloss:0.20836\n",
      "[248]\tvalidation_0-error:0.01759\tvalidation_0-logloss:0.10921\tvalidation_1-error:0.05848\tvalidation_1-logloss:0.20793\n",
      "[249]\tvalidation_0-error:0.01759\tvalidation_0-logloss:0.10867\tvalidation_1-error:0.05848\tvalidation_1-logloss:0.20739\n",
      "[250]\tvalidation_0-error:0.01759\tvalidation_0-logloss:0.10813\tvalidation_1-error:0.05848\tvalidation_1-logloss:0.20691\n",
      "[251]\tvalidation_0-error:0.01759\tvalidation_0-logloss:0.10753\tvalidation_1-error:0.05848\tvalidation_1-logloss:0.20649\n",
      "[252]\tvalidation_0-error:0.01759\tvalidation_0-logloss:0.10703\tvalidation_1-error:0.05848\tvalidation_1-logloss:0.20613\n",
      "[253]\tvalidation_0-error:0.01759\tvalidation_0-logloss:0.10662\tvalidation_1-error:0.05848\tvalidation_1-logloss:0.20558\n",
      "[254]\tvalidation_0-error:0.01759\tvalidation_0-logloss:0.10616\tvalidation_1-error:0.05848\tvalidation_1-logloss:0.20539\n",
      "[255]\tvalidation_0-error:0.01759\tvalidation_0-logloss:0.10565\tvalidation_1-error:0.05848\tvalidation_1-logloss:0.20508\n",
      "[256]\tvalidation_0-error:0.01759\tvalidation_0-logloss:0.10524\tvalidation_1-error:0.06433\tvalidation_1-logloss:0.20498\n",
      "[257]\tvalidation_0-error:0.01759\tvalidation_0-logloss:0.10478\tvalidation_1-error:0.06433\tvalidation_1-logloss:0.20483\n",
      "[258]\tvalidation_0-error:0.01759\tvalidation_0-logloss:0.10432\tvalidation_1-error:0.05848\tvalidation_1-logloss:0.20421\n",
      "[259]\tvalidation_0-error:0.01759\tvalidation_0-logloss:0.10382\tvalidation_1-error:0.05848\tvalidation_1-logloss:0.20392\n",
      "[260]\tvalidation_0-error:0.01759\tvalidation_0-logloss:0.10329\tvalidation_1-error:0.05848\tvalidation_1-logloss:0.20351\n",
      "[261]\tvalidation_0-error:0.01759\tvalidation_0-logloss:0.10286\tvalidation_1-error:0.05848\tvalidation_1-logloss:0.20339\n",
      "[262]\tvalidation_0-error:0.01759\tvalidation_0-logloss:0.10243\tvalidation_1-error:0.05848\tvalidation_1-logloss:0.20317\n",
      "[263]\tvalidation_0-error:0.01759\tvalidation_0-logloss:0.10198\tvalidation_1-error:0.05848\tvalidation_1-logloss:0.20273\n",
      "[264]\tvalidation_0-error:0.01759\tvalidation_0-logloss:0.10160\tvalidation_1-error:0.05848\tvalidation_1-logloss:0.20256\n",
      "[265]\tvalidation_0-error:0.01759\tvalidation_0-logloss:0.10122\tvalidation_1-error:0.05848\tvalidation_1-logloss:0.20245\n",
      "[266]\tvalidation_0-error:0.01759\tvalidation_0-logloss:0.10081\tvalidation_1-error:0.05848\tvalidation_1-logloss:0.20206\n",
      "[267]\tvalidation_0-error:0.01759\tvalidation_0-logloss:0.10035\tvalidation_1-error:0.05848\tvalidation_1-logloss:0.20171\n",
      "[268]\tvalidation_0-error:0.01759\tvalidation_0-logloss:0.09987\tvalidation_1-error:0.05848\tvalidation_1-logloss:0.20134\n",
      "[269]\tvalidation_0-error:0.01759\tvalidation_0-logloss:0.09947\tvalidation_1-error:0.05848\tvalidation_1-logloss:0.20117\n",
      "[270]\tvalidation_0-error:0.01759\tvalidation_0-logloss:0.09901\tvalidation_1-error:0.05848\tvalidation_1-logloss:0.20077\n",
      "[271]\tvalidation_0-error:0.01759\tvalidation_0-logloss:0.09857\tvalidation_1-error:0.05848\tvalidation_1-logloss:0.20056\n",
      "[272]\tvalidation_0-error:0.01759\tvalidation_0-logloss:0.09815\tvalidation_1-error:0.05848\tvalidation_1-logloss:0.20039\n",
      "[273]\tvalidation_0-error:0.01759\tvalidation_0-logloss:0.09772\tvalidation_1-error:0.05848\tvalidation_1-logloss:0.20010\n",
      "[274]\tvalidation_0-error:0.01759\tvalidation_0-logloss:0.09728\tvalidation_1-error:0.05848\tvalidation_1-logloss:0.19966\n",
      "[275]\tvalidation_0-error:0.01759\tvalidation_0-logloss:0.09689\tvalidation_1-error:0.05848\tvalidation_1-logloss:0.19951\n",
      "[276]\tvalidation_0-error:0.01759\tvalidation_0-logloss:0.09650\tvalidation_1-error:0.05848\tvalidation_1-logloss:0.19933\n",
      "[277]\tvalidation_0-error:0.01759\tvalidation_0-logloss:0.09606\tvalidation_1-error:0.05848\tvalidation_1-logloss:0.19907\n",
      "[278]\tvalidation_0-error:0.01759\tvalidation_0-logloss:0.09568\tvalidation_1-error:0.05848\tvalidation_1-logloss:0.19882\n",
      "[279]\tvalidation_0-error:0.01759\tvalidation_0-logloss:0.09527\tvalidation_1-error:0.05848\tvalidation_1-logloss:0.19847\n",
      "[280]\tvalidation_0-error:0.01759\tvalidation_0-logloss:0.09487\tvalidation_1-error:0.05848\tvalidation_1-logloss:0.19835\n",
      "[281]\tvalidation_0-error:0.01759\tvalidation_0-logloss:0.09440\tvalidation_1-error:0.05848\tvalidation_1-logloss:0.19815\n",
      "[282]\tvalidation_0-error:0.01759\tvalidation_0-logloss:0.09398\tvalidation_1-error:0.05848\tvalidation_1-logloss:0.19795\n",
      "[283]\tvalidation_0-error:0.01759\tvalidation_0-logloss:0.09363\tvalidation_1-error:0.05848\tvalidation_1-logloss:0.19779\n",
      "[284]\tvalidation_0-error:0.01759\tvalidation_0-logloss:0.09321\tvalidation_1-error:0.05848\tvalidation_1-logloss:0.19771\n",
      "[285]\tvalidation_0-error:0.01759\tvalidation_0-logloss:0.09284\tvalidation_1-error:0.05848\tvalidation_1-logloss:0.19763\n",
      "[286]\tvalidation_0-error:0.01759\tvalidation_0-logloss:0.09245\tvalidation_1-error:0.05848\tvalidation_1-logloss:0.19737\n",
      "[287]\tvalidation_0-error:0.01759\tvalidation_0-logloss:0.09209\tvalidation_1-error:0.05848\tvalidation_1-logloss:0.19716\n",
      "[288]\tvalidation_0-error:0.01759\tvalidation_0-logloss:0.09165\tvalidation_1-error:0.05848\tvalidation_1-logloss:0.19684\n",
      "[289]\tvalidation_0-error:0.01759\tvalidation_0-logloss:0.09128\tvalidation_1-error:0.05848\tvalidation_1-logloss:0.19643\n",
      "[290]\tvalidation_0-error:0.01759\tvalidation_0-logloss:0.09092\tvalidation_1-error:0.05848\tvalidation_1-logloss:0.19613\n",
      "[291]\tvalidation_0-error:0.01759\tvalidation_0-logloss:0.09051\tvalidation_1-error:0.05848\tvalidation_1-logloss:0.19583\n",
      "[292]\tvalidation_0-error:0.01759\tvalidation_0-logloss:0.09005\tvalidation_1-error:0.05848\tvalidation_1-logloss:0.19551\n",
      "[293]\tvalidation_0-error:0.01759\tvalidation_0-logloss:0.08970\tvalidation_1-error:0.05848\tvalidation_1-logloss:0.19506\n",
      "[294]\tvalidation_0-error:0.01759\tvalidation_0-logloss:0.08937\tvalidation_1-error:0.05848\tvalidation_1-logloss:0.19500\n",
      "[295]\tvalidation_0-error:0.01759\tvalidation_0-logloss:0.08902\tvalidation_1-error:0.05848\tvalidation_1-logloss:0.19495\n",
      "[296]\tvalidation_0-error:0.01759\tvalidation_0-logloss:0.08861\tvalidation_1-error:0.05848\tvalidation_1-logloss:0.19472\n",
      "[297]\tvalidation_0-error:0.01759\tvalidation_0-logloss:0.08822\tvalidation_1-error:0.05848\tvalidation_1-logloss:0.19449\n",
      "[298]\tvalidation_0-error:0.01759\tvalidation_0-logloss:0.08792\tvalidation_1-error:0.05848\tvalidation_1-logloss:0.19415\n",
      "[299]\tvalidation_0-error:0.01759\tvalidation_0-logloss:0.08766\tvalidation_1-error:0.05848\tvalidation_1-logloss:0.19407\n",
      "Wall time: 799 ms\n"
     ]
    },
    {
     "data": {
      "text/plain": [
       "XGBClassifier(base_score=0.5, booster='gbtree', colsample_bylevel=1,\n",
       "              colsample_bynode=1, colsample_bytree=1, gamma=0, gpu_id=-1,\n",
       "              importance_type='gain', interaction_constraints='',\n",
       "              learning_rate=0.01, max_delta_step=0, max_depth=12,\n",
       "              min_child_weight=1, missing=nan, monotone_constraints='()',\n",
       "              n_estimators=300, n_jobs=0, num_parallel_tree=1, random_state=0,\n",
       "              reg_alpha=0, reg_lambda=1, scale_pos_weight=1, subsample=0.33,\n",
       "              tree_method='exact', validate_parameters=1, verbosity=None)"
      ]
     },
     "execution_count": 48,
     "metadata": {},
     "output_type": "execute_result"
    }
   ],
   "source": [
    "%%time\n",
    "model =XGBClassifier(max_depth=12,\n",
    "                        subsample=0.33,\n",
    "                        objective='binary:logistic',\n",
    "                        n_estimators=300,\n",
    "                        learning_rate = 0.01)\n",
    "eval_set = [(x_train, y_train), (x_test, y_test)]\n",
    "model.fit(x_train, y_train.values.ravel(), early_stopping_rounds=15, eval_metric=[\"error\", \"logloss\"], eval_set=eval_set, verbose=True)"
   ]
  },
  {
   "cell_type": "code",
   "execution_count": 49,
   "metadata": {},
   "outputs": [],
   "source": [
    "y_pred_xgb=model.predict(x_test)"
   ]
  },
  {
   "cell_type": "code",
   "execution_count": 50,
   "metadata": {},
   "outputs": [
    {
     "data": {
      "text/plain": [
       "array([1, 0, 1, 0, 0, 0, 1, 0, 1, 1, 0, 0, 1, 0, 0, 0, 1, 1, 1, 1, 0, 1,\n",
       "       1, 1, 1, 1, 1, 0, 0, 1, 1, 0, 1, 1, 1, 0, 1, 1, 0, 1, 1, 1, 0, 1,\n",
       "       1, 0, 0, 1, 1, 1, 0, 1, 1, 1, 0, 1, 1, 0, 1, 1, 1, 1, 0, 1, 1, 0,\n",
       "       1, 0, 0, 1, 1, 1, 0, 1, 1, 0, 0, 0, 0, 1, 0, 1, 0, 1, 1, 1, 0, 0,\n",
       "       1, 0, 1, 1, 1, 1, 0, 1, 1, 1, 0, 1, 0, 0, 0, 0, 0, 1, 1, 1, 0, 0,\n",
       "       1, 0, 1, 1, 1, 1, 1, 1, 1, 0, 1, 0, 0, 0, 1, 1, 1, 0, 1, 1, 0, 1,\n",
       "       0, 0, 1, 1, 1, 1, 1, 1, 0, 1, 0, 0, 1, 1, 0, 0, 1, 0, 0, 1, 1, 1,\n",
       "       1, 0, 0, 1, 0, 1, 1, 1, 1, 1, 0, 1, 1, 1, 0, 1, 0], dtype=uint8)"
      ]
     },
     "execution_count": 50,
     "metadata": {},
     "output_type": "execute_result"
    }
   ],
   "source": [
    "y_pred_xgb"
   ]
  },
  {
   "cell_type": "code",
   "execution_count": 51,
   "metadata": {},
   "outputs": [
    {
     "data": {
      "text/plain": [
       "0.9415204678362573"
      ]
     },
     "execution_count": 51,
     "metadata": {},
     "output_type": "execute_result"
    }
   ],
   "source": [
    "accuracy_score(y_test, y_pred_xgb)"
   ]
  },
  {
   "cell_type": "code",
   "execution_count": 52,
   "metadata": {},
   "outputs": [
    {
     "data": {
      "text/plain": [
       "array([[63,  6],\n",
       "       [ 4, 98]], dtype=int64)"
      ]
     },
     "execution_count": 52,
     "metadata": {},
     "output_type": "execute_result"
    }
   ],
   "source": [
    "confusion_matrix(y_test, y_pred_xgb)"
   ]
  },
  {
   "cell_type": "code",
   "execution_count": 53,
   "metadata": {},
   "outputs": [
    {
     "name": "stdout",
     "output_type": "stream",
     "text": [
      "              precision    recall  f1-score   support\n",
      "\n",
      "           0       0.94      0.91      0.93        69\n",
      "           1       0.94      0.96      0.95       102\n",
      "\n",
      "    accuracy                           0.94       171\n",
      "   macro avg       0.94      0.94      0.94       171\n",
      "weighted avg       0.94      0.94      0.94       171\n",
      "\n"
     ]
    }
   ],
   "source": [
    "print(classification_report(y_test, y_pred_xgb))"
   ]
  },
  {
   "cell_type": "code",
   "execution_count": 54,
   "metadata": {},
   "outputs": [
    {
     "data": {
      "text/plain": [
       "0.9514563106796117"
      ]
     },
     "execution_count": 54,
     "metadata": {},
     "output_type": "execute_result"
    }
   ],
   "source": [
    "f1_score(y_test, y_pred_xgb)"
   ]
  },
  {
   "cell_type": "code",
   "execution_count": 55,
   "metadata": {},
   "outputs": [
    {
     "data": {
      "text/plain": [
       "0.93691389599318"
      ]
     },
     "execution_count": 55,
     "metadata": {},
     "output_type": "execute_result"
    }
   ],
   "source": [
    "roc_auc_score(y_test, y_pred_xgb)"
   ]
  },
  {
   "cell_type": "code",
   "execution_count": 56,
   "metadata": {},
   "outputs": [
    {
     "name": "stdout",
     "output_type": "stream",
     "text": [
      "Accuracy: 94.15%\n"
     ]
    }
   ],
   "source": [
    "accuracy = accuracy_score(y_test, y_pred_xgb)\n",
    "print(\"Accuracy: %.2f%%\" % (accuracy * 100.0))"
   ]
  },
  {
   "cell_type": "markdown",
   "metadata": {},
   "source": [
    "### Training and testing error in Validation"
   ]
  },
  {
   "cell_type": "code",
   "execution_count": 57,
   "metadata": {},
   "outputs": [
    {
     "data": {
      "image/png": "[encoded data removed]",
      "text/plain": [
       "<Figure size 432x288 with 1 Axes>"
      ]
     },
     "metadata": {
      "needs_background": "light"
     },
     "output_type": "display_data"
    },
    {
     "data": {
      "image/png": "[encoded data removed]",
      "text/plain": [
       "<Figure size 432x288 with 1 Axes>"
      ]
     },
     "metadata": {
      "needs_background": "light"
     },
     "output_type": "display_data"
    }
   ],
   "source": [
    "# retrieve performance metrics\n",
    "results = model.evals_result()\n",
    "epochs = len(results['validation_0']['error'])\n",
    "x_axis = range(0, epochs)\n",
    "# plot log loss\n",
    "fig, ax = plt.subplots()\n",
    "ax.plot(x_axis, results['validation_0']['logloss'], label='Train')\n",
    "ax.plot(x_axis, results['validation_1']['logloss'], label='Test')\n",
    "ax.legend()\n",
    "plt.ylabel('Log Loss')\n",
    "plt.title('XGBoost Log Loss')\n",
    "plt.show()\n",
    "# plot classification error\n",
    "fig, ax = plt.subplots()\n",
    "ax.plot(x_axis, results['validation_0']['error'], label='Train')\n",
    "ax.plot(x_axis, results['validation_1']['error'], label='Test')\n",
    "ax.legend()\n",
    "plt.ylabel('Classification Error')\n",
    "plt.title('XGBoost Classification Error')\n",
    "plt.show()"
   ]
  },
  {
   "cell_type": "markdown",
   "metadata": {},
   "source": [
    "### Hyperparameter Tuning\n",
    "+ let's try different learning rates like 0.001, 0.1, 0.2 ...and calculate the accuracy score"
   ]
  },
  {
   "cell_type": "code",
   "execution_count": 59,
   "metadata": {},
   "outputs": [
    {
     "data": {
      "text/plain": [
       "GridSearchCV(cv=3,\n",
       "             estimator=XGBClassifier(base_score=None, booster=None,\n",
       "                                     colsample_bylevel=None,\n",
       "                                     colsample_bynode=None,\n",
       "                                     colsample_bytree=None, gamma=None,\n",
       "                                     gpu_id=None, importance_type='gain',\n",
       "                                     interaction_constraints=None,\n",
       "                                     learning_rate=None, max_delta_step=None,\n",
       "                                     max_depth=None, min_child_weight=None,\n",
       "                                     missing=nan, monotone_constraints=None,\n",
       "                                     n_estimators=100, n_jobs...\n",
       "                                     num_parallel_tree=None, random_state=None,\n",
       "                                     reg_alpha=None, reg_lambda=None,\n",
       "                                     scale_pos_weight=None, subsample=None,\n",
       "                                     tree_method=None, validate_parameters=None,\n",
       "                                     verbosity=None),\n",
       "             n_jobs=4,\n",
       "             param_grid={'colsample_bytree': [0.3, 0.4, 0.5, 0.7],\n",
       "                         'eta': [0.05, 0.1, 0.15, 0.2, 0.25, 0.3],\n",
       "                         'gamma': [0.0, 0.1, 0.2, 0.3, 0.4],\n",
       "                         'max_depth': [3, 4, 5, 6, 8, 10, 12, 15],\n",
       "                         'min_child_weight': [1, 3, 5, 7]},\n",
       "             scoring='neg_log_loss')"
      ]
     },
     "execution_count": 59,
     "metadata": {},
     "output_type": "execute_result"
    }
   ],
   "source": [
    "#Hyper parameter tuning\n",
    "from sklearn.model_selection import GridSearchCV\n",
    "\n",
    "clf =XGBClassifier()\n",
    "parameters = {\n",
    "     \"eta\"    : [0.05, 0.10, 0.15, 0.20, 0.25, 0.30 ] ,\n",
    "     \"max_depth\"        : [ 3, 4, 5, 6, 8, 10, 12, 15],\n",
    "     \"min_child_weight\" : [ 1, 3, 5, 7 ],\n",
    "     \"gamma\"            : [ 0.0, 0.1, 0.2 , 0.3, 0.4 ],\n",
    "     \"colsample_bytree\" : [ 0.3, 0.4, 0.5 , 0.7 ]\n",
    "     }\n",
    "\n",
    "grid = GridSearchCV(clf,\n",
    "                    parameters, n_jobs=4,\n",
    "                    scoring=\"neg_log_loss\",\n",
    "                    cv=3)\n",
    "\n",
    "grid.fit(x_train, y_train)"
   ]
  },
  {
   "cell_type": "code",
   "execution_count": 60,
   "metadata": {},
   "outputs": [],
   "source": [
    "y_pred_xgb_cv=grid.predict(x_test)"
   ]
  },
  {
   "cell_type": "code",
   "execution_count": 61,
   "metadata": {},
   "outputs": [
    {
     "data": {
      "text/plain": [
       "0.9473684210526315"
      ]
     },
     "execution_count": 61,
     "metadata": {},
     "output_type": "execute_result"
    }
   ],
   "source": [
    "accuracy_score(y_test, y_pred_xgb_cv)"
   ]
  },
  {
   "cell_type": "code",
   "execution_count": 62,
   "metadata": {},
   "outputs": [
    {
     "data": {
      "text/plain": [
       "array([[ 62,   7],\n",
       "       [  2, 100]], dtype=int64)"
      ]
     },
     "execution_count": 62,
     "metadata": {},
     "output_type": "execute_result"
    }
   ],
   "source": [
    "confusion_matrix(y_test, y_pred_xgb_cv)"
   ]
  },
  {
   "cell_type": "code",
   "execution_count": 63,
   "metadata": {},
   "outputs": [
    {
     "name": "stdout",
     "output_type": "stream",
     "text": [
      "              precision    recall  f1-score   support\n",
      "\n",
      "           0       0.97      0.90      0.93        69\n",
      "           1       0.93      0.98      0.96       102\n",
      "\n",
      "    accuracy                           0.95       171\n",
      "   macro avg       0.95      0.94      0.94       171\n",
      "weighted avg       0.95      0.95      0.95       171\n",
      "\n"
     ]
    }
   ],
   "source": [
    "print(classification_report(y_test, y_pred_xgb_cv))"
   ]
  },
  {
   "cell_type": "code",
   "execution_count": 64,
   "metadata": {},
   "outputs": [
    {
     "name": "stdout",
     "output_type": "stream",
     "text": [
      "0.9569377990430622\n"
     ]
    }
   ],
   "source": [
    "print(f1_score(y_test, y_pred_xgb_cv))"
   ]
  },
  {
   "cell_type": "code",
   "execution_count": 65,
   "metadata": {},
   "outputs": [
    {
     "data": {
      "text/plain": [
       "0.9394714407502132"
      ]
     },
     "execution_count": 65,
     "metadata": {},
     "output_type": "execute_result"
    }
   ],
   "source": [
    "roc_auc_score(y_test, y_pred_xgb_cv)"
   ]
  },
  {
   "cell_type": "markdown",
   "metadata": {},
   "source": [
    "### Different ensemble classifiers\n",
    "+ Here, I have calculated different ensemble classifiers and compare of each accuracies"
   ]
  },
  {
   "cell_type": "code",
   "execution_count": 66,
   "metadata": {},
   "outputs": [],
   "source": [
    "#ensemble method\n",
    "from sklearn.ensemble import AdaBoostClassifier, GradientBoostingClassifier\n",
    "from mlxtend.classifier import EnsembleVoteClassifier\n",
    "from xgboost import XGBClassifier"
   ]
  },
  {
   "cell_type": "code",
   "execution_count": 67,
   "metadata": {},
   "outputs": [],
   "source": [
    "ada_boost = AdaBoostClassifier(n_estimators=5)\n",
    "grad_boost = GradientBoostingClassifier(n_estimators=10)\n",
    "xgb_boost = XGBClassifier(max_depth=5, learning_rate=0.001)"
   ]
  },
  {
   "cell_type": "code",
   "execution_count": 68,
   "metadata": {},
   "outputs": [],
   "source": [
    "from sklearn.model_selection import cross_val_score\n",
    "ensemble_clf = EnsembleVoteClassifier(clfs=[ada_boost, grad_boost, xgb_boost], voting='hard')\n",
    "boosting_labels = ['Ada Boost', 'Gradient Boost', 'XG Boost', 'Ensemble']"
   ]
  },
  {
   "cell_type": "code",
   "execution_count": 69,
   "metadata": {},
   "outputs": [
    {
     "name": "stdout",
     "output_type": "stream",
     "text": [
      "Accuracy: 0.933, Variance: (+/-) 0.011 [Ada Boost]\n",
      "Accuracy: 0.931, Variance: (+/-) 0.015 [Gradient Boost]\n",
      "Accuracy: 0.916, Variance: (+/-) 0.016 [XG Boost]\n",
      "Accuracy: 0.928, Variance: (+/-) 0.022 [Ensemble]\n"
     ]
    }
   ],
   "source": [
    "# classifiers performed on the cancer dataset\n",
    "for clf, label in zip([ada_boost, grad_boost, xgb_boost, ensemble_clf], boosting_labels):\n",
    "    scores = cross_val_score(clf, x, y, cv=3, scoring='accuracy')\n",
    "    print(\"Accuracy: {0:.3f}, Variance: (+/-) {1:.3f} [{2}]\".format(scores.mean(), scores.std(), label))"
   ]
  },
  {
   "cell_type": "markdown",
   "metadata": {},
   "source": [
    "### Visualization through decision regions\n",
    "+ Decision regions for all the boosting algorithms\n",
    "+ let us consider only two independent variables at a time for how the classifiers are working "
   ]
  },
  {
   "cell_type": "code",
   "execution_count": 70,
   "metadata": {},
   "outputs": [
    {
     "data": {
      "image/png": "[encoded data removed]",
      "text/plain": [
       "<Figure size 1440x1152 with 4 Axes>"
      ]
     },
     "metadata": {
      "needs_background": "light"
     },
     "output_type": "display_data"
    }
   ],
   "source": [
    "x=['radius_mean', 'texture_mean', 'perimeter_mean',\n",
    "       'area_mean', 'smoothness_mean', 'compactness_mean', 'concavity_mean',\n",
    "       'concave points_mean', 'symmetry_mean', 'fractal_dimension_mean',\n",
    "       'radius_se', 'texture_se', 'perimeter_se', 'area_se', 'smoothness_se',\n",
    "       'compactness_se', 'concavity_se', 'concave points_se', 'symmetry_se',\n",
    "       'fractal_dimension_se', 'radius_worst', 'texture_worst',\n",
    "       'perimeter_worst', 'area_worst', 'smoothness_worst',\n",
    "       'compactness_worst', 'concavity_worst', 'concave points_worst',\n",
    "       'symmetry_worst', 'fractal_dimension_worst']\n",
    "x=np.array(df[['concavity_worst', 'concave points_worst']])\n",
    "y=np.array(y)\n",
    "import matplotlib.pyplot as plt\n",
    "from mlxtend.plotting import plot_decision_regions\n",
    "import matplotlib.gridspec as gridspec\n",
    "import itertools\n",
    "gs = gridspec.GridSpec(2, 2)\n",
    "fig = plt.figure(figsize=(20,16))\n",
    "for clf, label, grd in zip([ada_boost, grad_boost, xgb_boost, ensemble_clf], boosting_labels, itertools.product([0, 1], repeat=2)):\n",
    "    clf.fit(x, y)\n",
    "    ax = plt.subplot(gs[grd[0], grd[1]])\n",
    "    fig = plot_decision_regions(x, y, clf=clf, legend=2)\n",
    "    plt.title(label)\n",
    "plt.show()"
   ]
  },
  {
   "cell_type": "code",
   "execution_count": 71,
   "metadata": {},
   "outputs": [
    {
     "data": {
      "text/plain": [
       "array([[57, 12],\n",
       "       [ 5, 97]], dtype=int64)"
      ]
     },
     "execution_count": 71,
     "metadata": {},
     "output_type": "execute_result"
    }
   ],
   "source": [
    "# The above graph shows that ababoost is working good than other classifiers\n",
    "ada_boost = AdaBoostClassifier(n_estimators=5)\n",
    "ada_boost.fit(x_train, y_train)\n",
    "y_pred_ada_boost=ada_boost.predict(x_test)\n",
    "confusion_matrix(y_test, y_pred_ada_boost)"
   ]
  },
  {
   "cell_type": "code",
   "execution_count": 72,
   "metadata": {},
   "outputs": [
    {
     "name": "stdout",
     "output_type": "stream",
     "text": [
      "              precision    recall  f1-score   support\n",
      "\n",
      "           0       0.92      0.83      0.87        69\n",
      "           1       0.89      0.95      0.92       102\n",
      "\n",
      "    accuracy                           0.90       171\n",
      "   macro avg       0.90      0.89      0.89       171\n",
      "weighted avg       0.90      0.90      0.90       171\n",
      "\n"
     ]
    }
   ],
   "source": [
    "print(classification_report(y_test, y_pred_ada_boost))"
   ]
  },
  {
   "cell_type": "code",
   "execution_count": 73,
   "metadata": {},
   "outputs": [
    {
     "data": {
      "text/plain": [
       "0.9194312796208531"
      ]
     },
     "execution_count": 73,
     "metadata": {},
     "output_type": "execute_result"
    }
   ],
   "source": [
    "f1_score(y_test, y_pred_ada_boost)"
   ]
  },
  {
   "cell_type": "code",
   "execution_count": 74,
   "metadata": {},
   "outputs": [
    {
     "data": {
      "text/plain": [
       "0.8885336743393009"
      ]
     },
     "execution_count": 74,
     "metadata": {},
     "output_type": "execute_result"
    }
   ],
   "source": [
    "roc_auc_score(y_test, y_pred_ada_boost)"
   ]
  },
  {
   "cell_type": "markdown",
   "metadata": {},
   "source": [
    "### Results:\n",
    "+ While comparing accuracies of AdaBoost Classifier and XGBoost, XGBoost Classifier performs the best prediction, with an accuracy of 94.15%.\n"
   ]
  },
  {
   "cell_type": "markdown",
   "metadata": {},
   "source": [
    "### References:\n",
    "+ https://towardsdatascience.com/selecting-optimal-parameters-for-xgboost-model-training-c7cd9ed5e45e\n",
    "+ https://towardsdatascience.com/a-beginners-guide-to-xgboost-87f5d4c30ed7\n",
    "+ https://medium.com/@saugata.paul1010/ensemble-learning-bagging-boosting-stacking-and-cascading-classifiers-in-machine-4.learning-9c66cb271674\n",
    "+ https://rasbt.github.io/mlxtend/"
   ]
  }
 ],
 "metadata": {
  "gist": {
   "data": {
    "description": "Desktop/Breast Cancer/Comparative perspectives of classification models with XGBoost Classifier and Hyperparameter Tuning.ipynb",
    "public": true
   },
   "id": ""
  },
  "kernelspec": {
   "display_name": "Python 3",
   "language": "python",
   "name": "python3"
  },
  "language_info": {
   "codemirror_mode": {
    "name": "ipython",
    "version": 3
   },
   "file_extension": ".py",
   "mimetype": "text/x-python",
   "name": "python",
   "nbconvert_exporter": "python",
   "pygments_lexer": "ipython3",
   "version": "3.8.3"
  }
 },
 "nbformat": 4,
 "nbformat_minor": 4
}
